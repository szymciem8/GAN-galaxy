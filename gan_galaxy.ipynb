{
 "cells": [
  {
   "cell_type": "markdown",
   "metadata": {},
   "source": [
    "# Generative Adversial Neural Network for Galaxy Image Generation"
   ]
  },
  {
   "cell_type": "markdown",
   "metadata": {},
   "source": [
    "## 1. Dataset"
   ]
  },
  {
   "cell_type": "code",
   "execution_count": 39,
   "metadata": {
    "execution": {
     "iopub.execute_input": "2022-11-06T10:01:03.737372Z",
     "iopub.status.busy": "2022-11-06T10:01:03.736735Z",
     "iopub.status.idle": "2022-11-06T10:01:03.740676Z",
     "shell.execute_reply": "2022-11-06T10:01:03.740041Z",
     "shell.execute_reply.started": "2022-11-06T10:01:03.737346Z"
    }
   },
   "outputs": [],
   "source": [
    "import tensorflow as tf\n",
    "import keras\n",
    "import numpy as np\n",
    "from matplotlib import pyplot as plt\n",
    "import os"
   ]
  },
  {
   "cell_type": "code",
   "execution_count": 40,
   "metadata": {
    "execution": {
     "iopub.execute_input": "2022-11-06T10:01:03.742409Z",
     "iopub.status.busy": "2022-11-06T10:01:03.742171Z",
     "iopub.status.idle": "2022-11-06T10:01:03.789683Z",
     "shell.execute_reply": "2022-11-06T10:01:03.788897Z",
     "shell.execute_reply.started": "2022-11-06T10:01:03.742390Z"
    }
   },
   "outputs": [],
   "source": [
    "dataset_path = 'dataset/'\n",
    "dataset_files = np.array([f'{dataset_path}/{file}' for file in os.listdir(dataset_path) if 'jpg' in file])[:20000]"
   ]
  },
  {
   "cell_type": "code",
   "execution_count": 41,
   "metadata": {
    "execution": {
     "iopub.execute_input": "2022-11-06T10:01:03.790760Z",
     "iopub.status.busy": "2022-11-06T10:01:03.790536Z",
     "iopub.status.idle": "2022-11-06T10:01:03.795550Z",
     "shell.execute_reply": "2022-11-06T10:01:03.794696Z",
     "shell.execute_reply.started": "2022-11-06T10:01:03.790741Z"
    }
   },
   "outputs": [
    {
     "data": {
      "text/plain": [
       "array(['dataset//877039.jpg', 'dataset//274957.jpg',\n",
       "       'dataset//175708.jpg', ..., 'dataset//402416.jpg',\n",
       "       'dataset//816608.jpg', 'dataset//851353.jpg'], dtype='<U19')"
      ]
     },
     "execution_count": 41,
     "metadata": {},
     "output_type": "execute_result"
    }
   ],
   "source": [
    "dataset_files"
   ]
  },
  {
   "cell_type": "code",
   "execution_count": 42,
   "metadata": {
    "execution": {
     "iopub.execute_input": "2022-11-06T10:01:03.796531Z",
     "iopub.status.busy": "2022-11-06T10:01:03.796318Z",
     "iopub.status.idle": "2022-11-06T10:01:03.799537Z",
     "shell.execute_reply": "2022-11-06T10:01:03.798915Z",
     "shell.execute_reply.started": "2022-11-06T10:01:03.796512Z"
    }
   },
   "outputs": [],
   "source": [
    "from PIL import Image"
   ]
  },
  {
   "cell_type": "code",
   "execution_count": 43,
   "metadata": {
    "execution": {
     "iopub.execute_input": "2022-11-06T10:01:03.801721Z",
     "iopub.status.busy": "2022-11-06T10:01:03.801355Z",
     "iopub.status.idle": "2022-11-06T10:01:03.808339Z",
     "shell.execute_reply": "2022-11-06T10:01:03.807581Z",
     "shell.execute_reply.started": "2022-11-06T10:01:03.801702Z"
    }
   },
   "outputs": [],
   "source": [
    "class ImagesBatchGenerator(keras.utils.Sequence):\n",
    "    \"\"\"_summary_\n",
    "    Helps to iterate over the dataset\n",
    "    Args:\n",
    "        keras (_type_): _description_\n",
    "    \"\"\"\n",
    "\n",
    "    def __init__(self, dataset_files, batch_size, image_size, load_all=False):\n",
    "        self.dataset_files = dataset_files\n",
    "        self.batch_size = batch_size\n",
    "        self.image_size = image_size\n",
    "        self.load_all = load_all\n",
    "        \n",
    "        if self.load_all:\n",
    "            for i in range(0, len(self.dataset_files), self.batch_size):\n",
    "                subset = self.dataset_files[i:i+self.batch_size]\n",
    "                temp_batch = np.array([[np.expand_dims(np.asarray(Image.open(path).convert('L').resize(self.image_size))/255, 2) for path in subset]])\n",
    "                if i==0:\n",
    "                    self.dataset = temp_batch\n",
    "                else:\n",
    "                    self.dataset = np.append(self.dataset, temp_batch, axis=0)\n",
    "            \n",
    "    \n",
    "    def __len__(self):\n",
    "        return len(self.dataset_files) // self.batch_size\n",
    "\n",
    "    def __getitem__(self, idx):\n",
    "        \"\"\"Returns tuple (input, output) that corresponds to batch idx\"\"\"\n",
    "        \n",
    "        if not self.load_all:\n",
    "            # Read and return\n",
    "            return np.array([np.asarray(Image.open(path).convert('L').resize(self.image_size)) / 255 for path in subset])\n",
    "        else: \n",
    "            return self.dataset[idx]\n",
    "    \n",
    "    \n",
    "    def show_subset(self, idx, ncols=4):\n",
    "        images = self.__getitem__(idx)\n",
    "        \n",
    "        fig, ax = plt.subplots(ncols=ncols, figsize=(20,20))\n",
    "        for i in range(4):\n",
    "            ax[i].imshow(np.squeeze(images[i]))\n",
    "            ax[i].title.set_text(i)"
   ]
  },
  {
   "cell_type": "code",
   "execution_count": 44,
   "metadata": {
    "execution": {
     "iopub.execute_input": "2022-11-06T10:01:03.809364Z",
     "iopub.status.busy": "2022-11-06T10:01:03.809159Z",
     "iopub.status.idle": "2022-11-06T10:01:48.404544Z",
     "shell.execute_reply": "2022-11-06T10:01:48.403938Z",
     "shell.execute_reply.started": "2022-11-06T10:01:03.809340Z"
    }
   },
   "outputs": [],
   "source": [
    "real_images = ImagesBatchGenerator(dataset_files, batch_size=200, image_size=(64,64), load_all=True)"
   ]
  },
  {
   "cell_type": "code",
   "execution_count": 45,
   "metadata": {
    "execution": {
     "iopub.execute_input": "2022-11-06T10:01:48.405881Z",
     "iopub.status.busy": "2022-11-06T10:01:48.405260Z",
     "iopub.status.idle": "2022-11-06T10:01:48.409422Z",
     "shell.execute_reply": "2022-11-06T10:01:48.408951Z",
     "shell.execute_reply.started": "2022-11-06T10:01:48.405860Z"
    }
   },
   "outputs": [
    {
     "data": {
      "text/plain": [
       "(200, 64, 64, 1)"
      ]
     },
     "execution_count": 45,
     "metadata": {},
     "output_type": "execute_result"
    }
   ],
   "source": [
    "real_images.__getitem__(0).shape"
   ]
  },
  {
   "cell_type": "code",
   "execution_count": 46,
   "metadata": {
    "execution": {
     "iopub.execute_input": "2022-11-06T10:01:48.410484Z",
     "iopub.status.busy": "2022-11-06T10:01:48.410076Z",
     "iopub.status.idle": "2022-11-06T10:01:48.654552Z",
     "shell.execute_reply": "2022-11-06T10:01:48.654011Z",
     "shell.execute_reply.started": "2022-11-06T10:01:48.410460Z"
    }
   },
   "outputs": [
    {
     "data": {
      "image/png": "[encoded data removed]",
      "text/plain": [
       "<Figure size 1440x1440 with 4 Axes>"
      ]
     },
     "metadata": {
      "needs_background": "light"
     },
     "output_type": "display_data"
    }
   ],
   "source": [
    "real_images.show_subset(2)"
   ]
  },
  {
   "cell_type": "markdown",
   "metadata": {},
   "source": [
    "## 2. Build Neural Networks"
   ]
  },
  {
   "cell_type": "markdown",
   "metadata": {},
   "source": [
    "### 2.1. Import Modelling Components"
   ]
  },
  {
   "cell_type": "code",
   "execution_count": 47,
   "metadata": {
    "execution": {
     "iopub.execute_input": "2022-11-06T10:01:48.655879Z",
     "iopub.status.busy": "2022-11-06T10:01:48.655240Z",
     "iopub.status.idle": "2022-11-06T10:01:48.658488Z",
     "shell.execute_reply": "2022-11-06T10:01:48.658062Z",
     "shell.execute_reply.started": "2022-11-06T10:01:48.655858Z"
    }
   },
   "outputs": [],
   "source": [
    "from keras.models import Sequential\n",
    "from keras.layers import Conv2D, Dense, Flatten, Reshape, LeakyReLU, Dropout, UpSampling2D"
   ]
  },
  {
   "cell_type": "markdown",
   "metadata": {},
   "source": [
    "### 2.2. Build Generator"
   ]
  },
  {
   "cell_type": "code",
   "execution_count": 48,
   "metadata": {
    "execution": {
     "iopub.execute_input": "2022-11-06T10:01:48.659557Z",
     "iopub.status.busy": "2022-11-06T10:01:48.659067Z",
     "iopub.status.idle": "2022-11-06T10:01:48.664360Z",
     "shell.execute_reply": "2022-11-06T10:01:48.663936Z",
     "shell.execute_reply.started": "2022-11-06T10:01:48.659539Z"
    }
   },
   "outputs": [],
   "source": [
    "def build_generator():\n",
    "    model = Sequential()\n",
    "    \n",
    "    model.add(Dense(8*8*128, input_dim=128))\n",
    "    model.add(LeakyReLU(0.2))\n",
    "    model.add(Reshape((8,8,128)))\n",
    "    \n",
    "    # Upsampling block 1 \n",
    "    model.add(UpSampling2D())\n",
    "    model.add(Conv2D(128, 5, padding='same'))\n",
    "    model.add(LeakyReLU(0.2))\n",
    "    \n",
    "    # Upsampling block 2\n",
    "    model.add(UpSampling2D())\n",
    "    model.add(Conv2D(128, 5, padding='same'))\n",
    "    model.add(LeakyReLU(0.2))\n",
    "    \n",
    "    # Upsampling block 3\n",
    "    model.add(UpSampling2D())\n",
    "    model.add(Conv2D(128, 5, padding='same'))\n",
    "    model.add(LeakyReLU(0.2))\n",
    "    \n",
    "    # Convolutional block 1\n",
    "    model.add(Conv2D(128, 4, padding='same'))\n",
    "    model.add(LeakyReLU(0.2))\n",
    "    \n",
    "    # Convolutional block 2\n",
    "    model.add(Conv2D(128, 4, padding='same'))\n",
    "    model.add(LeakyReLU(0.2))\n",
    "    \n",
    "    # Conv layer to get to one channel\n",
    "    model.add(Conv2D(1,4,padding='same', activation='sigmoid'))\n",
    "    \n",
    "    return model"
   ]
  },
  {
   "cell_type": "code",
   "execution_count": 49,
   "metadata": {
    "execution": {
     "iopub.execute_input": "2022-11-06T10:01:48.665463Z",
     "iopub.status.busy": "2022-11-06T10:01:48.664905Z",
     "iopub.status.idle": "2022-11-06T10:01:48.753847Z",
     "shell.execute_reply": "2022-11-06T10:01:48.753075Z",
     "shell.execute_reply.started": "2022-11-06T10:01:48.665444Z"
    }
   },
   "outputs": [
    {
     "name": "stdout",
     "output_type": "stream",
     "text": [
      "Model: \"sequential_2\"\n",
      "_________________________________________________________________\n",
      " Layer (type)                Output Shape              Param #   \n",
      "=================================================================\n",
      " dense_2 (Dense)             (None, 8192)              1056768   \n",
      "                                                                 \n",
      " leaky_re_lu_10 (LeakyReLU)  (None, 8192)              0         \n",
      "                                                                 \n",
      " reshape_1 (Reshape)         (None, 8, 8, 128)         0         \n",
      "                                                                 \n",
      " up_sampling2d_3 (UpSampling  (None, 16, 16, 128)      0         \n",
      " 2D)                                                             \n",
      "                                                                 \n",
      " conv2d_10 (Conv2D)          (None, 16, 16, 128)       409728    \n",
      "                                                                 \n",
      " leaky_re_lu_11 (LeakyReLU)  (None, 16, 16, 128)       0         \n",
      "                                                                 \n",
      " up_sampling2d_4 (UpSampling  (None, 32, 32, 128)      0         \n",
      " 2D)                                                             \n",
      "                                                                 \n",
      " conv2d_11 (Conv2D)          (None, 32, 32, 128)       409728    \n",
      "                                                                 \n",
      " leaky_re_lu_12 (LeakyReLU)  (None, 32, 32, 128)       0         \n",
      "                                                                 \n",
      " up_sampling2d_5 (UpSampling  (None, 64, 64, 128)      0         \n",
      " 2D)                                                             \n",
      "                                                                 \n",
      " conv2d_12 (Conv2D)          (None, 64, 64, 128)       409728    \n",
      "                                                                 \n",
      " leaky_re_lu_13 (LeakyReLU)  (None, 64, 64, 128)       0         \n",
      "                                                                 \n",
      " conv2d_13 (Conv2D)          (None, 64, 64, 128)       262272    \n",
      "                                                                 \n",
      " leaky_re_lu_14 (LeakyReLU)  (None, 64, 64, 128)       0         \n",
      "                                                                 \n",
      " conv2d_14 (Conv2D)          (None, 64, 64, 128)       262272    \n",
      "                                                                 \n",
      " leaky_re_lu_15 (LeakyReLU)  (None, 64, 64, 128)       0         \n",
      "                                                                 \n",
      " conv2d_15 (Conv2D)          (None, 64, 64, 1)         2049      \n",
      "                                                                 \n",
      "=================================================================\n",
      "Total params: 2,812,545\n",
      "Trainable params: 2,812,545\n",
      "Non-trainable params: 0\n",
      "_________________________________________________________________\n"
     ]
    }
   ],
   "source": [
    "generator = build_generator()\n",
    "generator.summary()"
   ]
  },
  {
   "cell_type": "code",
   "execution_count": 50,
   "metadata": {
    "execution": {
     "iopub.execute_input": "2022-11-06T10:01:48.755021Z",
     "iopub.status.busy": "2022-11-06T10:01:48.754772Z",
     "iopub.status.idle": "2022-11-06T10:01:48.858729Z",
     "shell.execute_reply": "2022-11-06T10:01:48.858237Z",
     "shell.execute_reply.started": "2022-11-06T10:01:48.755000Z"
    }
   },
   "outputs": [
    {
     "name": "stdout",
     "output_type": "stream",
     "text": [
      "1/1 [==============================] - 0s 74ms/step\n"
     ]
    },
    {
     "data": {
      "text/plain": [
       "array([[[[0.4991434 ],\n",
       "         [0.49902654],\n",
       "         [0.49997938],\n",
       "         ...,\n",
       "         [0.49706075],\n",
       "         [0.49859804],\n",
       "         [0.49959788]],\n",
       "\n",
       "        [[0.49789023],\n",
       "         [0.49668103],\n",
       "         [0.49853545],\n",
       "         ...,\n",
       "         [0.4979121 ],\n",
       "         [0.49879593],\n",
       "         [0.49949172]],\n",
       "\n",
       "        [[0.4987152 ],\n",
       "         [0.49774405],\n",
       "         [0.4976178 ],\n",
       "         ...,\n",
       "         [0.4967427 ],\n",
       "         [0.5004734 ],\n",
       "         [0.5002672 ]],\n",
       "\n",
       "        ...,\n",
       "\n",
       "        [[0.496084  ],\n",
       "         [0.49496937],\n",
       "         [0.49544922],\n",
       "         ...,\n",
       "         [0.50061315],\n",
       "         [0.49942368],\n",
       "         [0.50185335]],\n",
       "\n",
       "        [[0.49826795],\n",
       "         [0.4974693 ],\n",
       "         [0.49762124],\n",
       "         ...,\n",
       "         [0.49939063],\n",
       "         [0.49961776],\n",
       "         [0.50039166]],\n",
       "\n",
       "        [[0.49849048],\n",
       "         [0.49881595],\n",
       "         [0.4978381 ],\n",
       "         ...,\n",
       "         [0.5002022 ],\n",
       "         [0.5008633 ],\n",
       "         [0.50081724]]],\n",
       "\n",
       "\n",
       "       [[[0.49720517],\n",
       "         [0.5011522 ],\n",
       "         [0.50136584],\n",
       "         ...,\n",
       "         [0.49850383],\n",
       "         [0.49970096],\n",
       "         [0.502994  ]],\n",
       "\n",
       "        [[0.49753043],\n",
       "         [0.5003773 ],\n",
       "         [0.50035286],\n",
       "         ...,\n",
       "         [0.49877787],\n",
       "         [0.50033784],\n",
       "         [0.5026756 ]],\n",
       "\n",
       "        [[0.49679458],\n",
       "         [0.50040215],\n",
       "         [0.50074714],\n",
       "         ...,\n",
       "         [0.4985698 ],\n",
       "         [0.5009511 ],\n",
       "         [0.50355846]],\n",
       "\n",
       "        ...,\n",
       "\n",
       "        [[0.49819088],\n",
       "         [0.50109106],\n",
       "         [0.49991584],\n",
       "         ...,\n",
       "         [0.49847355],\n",
       "         [0.5002306 ],\n",
       "         [0.5011147 ]],\n",
       "\n",
       "        [[0.49974063],\n",
       "         [0.5009041 ],\n",
       "         [0.50200397],\n",
       "         ...,\n",
       "         [0.4976126 ],\n",
       "         [0.49995935],\n",
       "         [0.5006782 ]],\n",
       "\n",
       "        [[0.4991481 ],\n",
       "         [0.49960583],\n",
       "         [0.5003987 ],\n",
       "         ...,\n",
       "         [0.50002617],\n",
       "         [0.5006771 ],\n",
       "         [0.50033504]]],\n",
       "\n",
       "\n",
       "       [[[0.49820215],\n",
       "         [0.4976926 ],\n",
       "         [0.49920246],\n",
       "         ...,\n",
       "         [0.49669686],\n",
       "         [0.4994849 ],\n",
       "         [0.5006285 ]],\n",
       "\n",
       "        [[0.49748382],\n",
       "         [0.49853233],\n",
       "         [0.49948975],\n",
       "         ...,\n",
       "         [0.49697652],\n",
       "         [0.49953634],\n",
       "         [0.5011395 ]],\n",
       "\n",
       "        [[0.5007405 ],\n",
       "         [0.50111383],\n",
       "         [0.49915195],\n",
       "         ...,\n",
       "         [0.49855995],\n",
       "         [0.50032985],\n",
       "         [0.5022587 ]],\n",
       "\n",
       "        ...,\n",
       "\n",
       "        [[0.49724984],\n",
       "         [0.4979147 ],\n",
       "         [0.49627808],\n",
       "         ...,\n",
       "         [0.49708474],\n",
       "         [0.49879912],\n",
       "         [0.49951968]],\n",
       "\n",
       "        [[0.49861258],\n",
       "         [0.4995861 ],\n",
       "         [0.4983639 ],\n",
       "         ...,\n",
       "         [0.49680007],\n",
       "         [0.49870944],\n",
       "         [0.4998847 ]],\n",
       "\n",
       "        [[0.49931437],\n",
       "         [0.499199  ],\n",
       "         [0.49824047],\n",
       "         ...,\n",
       "         [0.4982522 ],\n",
       "         [0.5006259 ],\n",
       "         [0.50068265]]],\n",
       "\n",
       "\n",
       "       [[[0.4982502 ],\n",
       "         [0.50021213],\n",
       "         [0.49682418],\n",
       "         ...,\n",
       "         [0.49766025],\n",
       "         [0.50013924],\n",
       "         [0.50117254]],\n",
       "\n",
       "        [[0.4948403 ],\n",
       "         [0.49658236],\n",
       "         [0.49293303],\n",
       "         ...,\n",
       "         [0.49813455],\n",
       "         [0.4993941 ],\n",
       "         [0.50123966]],\n",
       "\n",
       "        [[0.4928839 ],\n",
       "         [0.49365127],\n",
       "         [0.49222526],\n",
       "         ...,\n",
       "         [0.4978968 ],\n",
       "         [0.4991877 ],\n",
       "         [0.49952665]],\n",
       "\n",
       "        ...,\n",
       "\n",
       "        [[0.49658054],\n",
       "         [0.49715772],\n",
       "         [0.49708673],\n",
       "         ...,\n",
       "         [0.4999932 ],\n",
       "         [0.49945676],\n",
       "         [0.50216687]],\n",
       "\n",
       "        [[0.49904683],\n",
       "         [0.49897915],\n",
       "         [0.5000332 ],\n",
       "         ...,\n",
       "         [0.501258  ],\n",
       "         [0.49999315],\n",
       "         [0.50052285]],\n",
       "\n",
       "        [[0.4994212 ],\n",
       "         [0.49929392],\n",
       "         [0.49968287],\n",
       "         ...,\n",
       "         [0.5007952 ],\n",
       "         [0.5009411 ],\n",
       "         [0.5007959 ]]]], dtype=float32)"
      ]
     },
     "execution_count": 50,
     "metadata": {},
     "output_type": "execute_result"
    }
   ],
   "source": [
    "img = generator.predict(np.random.randn(4,128,1))\n",
    "img"
   ]
  },
  {
   "cell_type": "code",
   "execution_count": 51,
   "metadata": {
    "execution": {
     "iopub.execute_input": "2022-11-06T10:01:48.861896Z",
     "iopub.status.busy": "2022-11-06T10:01:48.861222Z",
     "iopub.status.idle": "2022-11-06T10:01:49.153905Z",
     "shell.execute_reply": "2022-11-06T10:01:49.153280Z",
     "shell.execute_reply.started": "2022-11-06T10:01:48.861874Z"
    }
   },
   "outputs": [
    {
     "name": "stdout",
     "output_type": "stream",
     "text": [
      "1/1 [==============================] - 0s 15ms/step\n"
     ]
    },
    {
     "data": {
      "image/png": "[encoded data removed]",
      "text/plain": [
       "<Figure size 1440x1440 with 4 Axes>"
      ]
     },
     "metadata": {
      "needs_background": "light"
     },
     "output_type": "display_data"
    }
   ],
   "source": [
    "img = generator.predict(np.random.randn(4,128,1))\n",
    "fig, ax = plt.subplots(ncols=4, figsize=(20,20))\n",
    "for idx, im in enumerate(img):\n",
    "    ax[idx].imshow(np.squeeze(im))\n",
    "    ax[idx].title.set_text(idx)"
   ]
  },
  {
   "cell_type": "markdown",
   "metadata": {},
   "source": [
    "### 2.3. Build Discriminator"
   ]
  },
  {
   "cell_type": "code",
   "execution_count": 52,
   "metadata": {
    "execution": {
     "iopub.execute_input": "2022-11-06T10:01:49.154890Z",
     "iopub.status.busy": "2022-11-06T10:01:49.154681Z",
     "iopub.status.idle": "2022-11-06T10:01:49.160574Z",
     "shell.execute_reply": "2022-11-06T10:01:49.159650Z",
     "shell.execute_reply.started": "2022-11-06T10:01:49.154870Z"
    }
   },
   "outputs": [],
   "source": [
    "def build_discriminator():\n",
    "    model = Sequential()\n",
    "    \n",
    "    # First Conv Block\n",
    "    model.add(Conv2D(32, 5, input_shape=(64,64,1)))\n",
    "    model.add(LeakyReLU(0.2))\n",
    "    model.add(Dropout(0.4))\n",
    "    \n",
    "    # Second Conv Block\n",
    "    model.add(Conv2D(64, 5))\n",
    "    model.add(LeakyReLU(0.2))\n",
    "    model.add(Dropout(0.4))\n",
    "    \n",
    "    # Third Conv Block\n",
    "    model.add(Conv2D(128, 5))\n",
    "    model.add(LeakyReLU(0.2))\n",
    "    model.add(Dropout(0.4))\n",
    "    \n",
    "    # Fourth Conv Block\n",
    "    model.add(Conv2D(256, 5))\n",
    "    model.add(LeakyReLU(0.2))\n",
    "    model.add(Dropout(0.4))\n",
    "    \n",
    "    # Flatten then pass to dense layer\n",
    "    model.add(Flatten())\n",
    "    model.add(Dropout(0.4))\n",
    "    model.add(Dense(1, activation='sigmoid'))\n",
    "    \n",
    "    return model"
   ]
  },
  {
   "cell_type": "code",
   "execution_count": 53,
   "metadata": {
    "execution": {
     "iopub.execute_input": "2022-11-06T10:01:49.161987Z",
     "iopub.status.busy": "2022-11-06T10:01:49.161392Z",
     "iopub.status.idle": "2022-11-06T10:01:49.231824Z",
     "shell.execute_reply": "2022-11-06T10:01:49.230881Z",
     "shell.execute_reply.started": "2022-11-06T10:01:49.161965Z"
    }
   },
   "outputs": [
    {
     "name": "stdout",
     "output_type": "stream",
     "text": [
      "Model: \"sequential_3\"\n",
      "_________________________________________________________________\n",
      " Layer (type)                Output Shape              Param #   \n",
      "=================================================================\n",
      " conv2d_16 (Conv2D)          (None, 60, 60, 32)        832       \n",
      "                                                                 \n",
      " leaky_re_lu_16 (LeakyReLU)  (None, 60, 60, 32)        0         \n",
      "                                                                 \n",
      " dropout_5 (Dropout)         (None, 60, 60, 32)        0         \n",
      "                                                                 \n",
      " conv2d_17 (Conv2D)          (None, 56, 56, 64)        51264     \n",
      "                                                                 \n",
      " leaky_re_lu_17 (LeakyReLU)  (None, 56, 56, 64)        0         \n",
      "                                                                 \n",
      " dropout_6 (Dropout)         (None, 56, 56, 64)        0         \n",
      "                                                                 \n",
      " conv2d_18 (Conv2D)          (None, 52, 52, 128)       204928    \n",
      "                                                                 \n",
      " leaky_re_lu_18 (LeakyReLU)  (None, 52, 52, 128)       0         \n",
      "                                                                 \n",
      " dropout_7 (Dropout)         (None, 52, 52, 128)       0         \n",
      "                                                                 \n",
      " conv2d_19 (Conv2D)          (None, 48, 48, 256)       819456    \n",
      "                                                                 \n",
      " leaky_re_lu_19 (LeakyReLU)  (None, 48, 48, 256)       0         \n",
      "                                                                 \n",
      " dropout_8 (Dropout)         (None, 48, 48, 256)       0         \n",
      "                                                                 \n",
      " flatten_1 (Flatten)         (None, 589824)            0         \n",
      "                                                                 \n",
      " dropout_9 (Dropout)         (None, 589824)            0         \n",
      "                                                                 \n",
      " dense_3 (Dense)             (None, 1)                 589825    \n",
      "                                                                 \n",
      "=================================================================\n",
      "Total params: 1,666,305\n",
      "Trainable params: 1,666,305\n",
      "Non-trainable params: 0\n",
      "_________________________________________________________________\n"
     ]
    }
   ],
   "source": [
    "discriminator = build_discriminator()\n",
    "discriminator.summary()"
   ]
  },
  {
   "cell_type": "code",
   "execution_count": 54,
   "metadata": {
    "execution": {
     "iopub.execute_input": "2022-11-06T10:01:49.233648Z",
     "iopub.status.busy": "2022-11-06T10:01:49.233426Z",
     "iopub.status.idle": "2022-11-06T10:01:49.237927Z",
     "shell.execute_reply": "2022-11-06T10:01:49.237247Z",
     "shell.execute_reply.started": "2022-11-06T10:01:49.233628Z"
    }
   },
   "outputs": [
    {
     "data": {
      "text/plain": [
       "(4, 64, 64, 1)"
      ]
     },
     "execution_count": 54,
     "metadata": {},
     "output_type": "execute_result"
    }
   ],
   "source": [
    "img.shape"
   ]
  },
  {
   "cell_type": "code",
   "execution_count": 55,
   "metadata": {
    "execution": {
     "iopub.execute_input": "2022-11-06T10:01:49.238754Z",
     "iopub.status.busy": "2022-11-06T10:01:49.238575Z",
     "iopub.status.idle": "2022-11-06T10:01:49.320327Z",
     "shell.execute_reply": "2022-11-06T10:01:49.319786Z",
     "shell.execute_reply.started": "2022-11-06T10:01:49.238737Z"
    }
   },
   "outputs": [
    {
     "name": "stdout",
     "output_type": "stream",
     "text": [
      "1/1 [==============================] - 0s 51ms/step\n"
     ]
    },
    {
     "data": {
      "text/plain": [
       "array([[0.5004653 ],\n",
       "       [0.50047237],\n",
       "       [0.5003951 ],\n",
       "       [0.50049096]], dtype=float32)"
      ]
     },
     "execution_count": 55,
     "metadata": {},
     "output_type": "execute_result"
    }
   ],
   "source": [
    "discriminator.predict(img)"
   ]
  },
  {
   "cell_type": "code",
   "execution_count": 56,
   "metadata": {
    "execution": {
     "iopub.execute_input": "2022-11-06T10:01:49.321656Z",
     "iopub.status.busy": "2022-11-06T10:01:49.320999Z",
     "iopub.status.idle": "2022-11-06T10:01:49.364385Z",
     "shell.execute_reply": "2022-11-06T10:01:49.363843Z",
     "shell.execute_reply.started": "2022-11-06T10:01:49.321635Z"
    }
   },
   "outputs": [
    {
     "name": "stderr",
     "output_type": "stream",
     "text": [
      "2022-11-06 10:01:49.331450: W tensorflow/core/util/tensor_slice_reader.cc:96] Could not open models/generator: DATA_LOSS: file is too short to be an sstable: perhaps your file is in a different file format and you need to use a different restore operator?\n",
      "2022-11-06 10:01:49.349679: W tensorflow/core/util/tensor_slice_reader.cc:96] Could not open models/discriminator: DATA_LOSS: file is too short to be an sstable: perhaps your file is in a different file format and you need to use a different restore operator?\n"
     ]
    },
    {
     "data": {
      "text/plain": [
       "<tensorflow.python.training.tracking.util.CheckpointLoadStatus at 0x7faeff35b220>"
      ]
     },
     "execution_count": 56,
     "metadata": {},
     "output_type": "execute_result"
    }
   ],
   "source": [
    "generator.load_weights('models/generator')\n",
    "discriminator.load_weights('models/discriminator')"
   ]
  },
  {
   "cell_type": "code",
   "execution_count": 75,
   "metadata": {
    "execution": {
     "iopub.execute_input": "2022-11-06T10:16:57.410252Z",
     "iopub.status.busy": "2022-11-06T10:16:57.409685Z",
     "iopub.status.idle": "2022-11-06T10:16:57.454949Z",
     "shell.execute_reply": "2022-11-06T10:16:57.454240Z",
     "shell.execute_reply.started": "2022-11-06T10:16:57.410227Z"
    }
   },
   "outputs": [
    {
     "name": "stdout",
     "output_type": "stream",
     "text": [
      "1/1 [==============================] - 0s 16ms/step\n"
     ]
    }
   ],
   "source": [
    "img = generator.predict(np.random.randn(4,128,1))"
   ]
  },
  {
   "cell_type": "code",
   "execution_count": 76,
   "metadata": {
    "execution": {
     "iopub.execute_input": "2022-11-06T10:17:02.349388Z",
     "iopub.status.busy": "2022-11-06T10:17:02.349088Z",
     "iopub.status.idle": "2022-11-06T10:17:02.391877Z",
     "shell.execute_reply": "2022-11-06T10:17:02.391183Z",
     "shell.execute_reply.started": "2022-11-06T10:17:02.349366Z"
    }
   },
   "outputs": [
    {
     "name": "stdout",
     "output_type": "stream",
     "text": [
      "1/1 [==============================] - 0s 17ms/step\n"
     ]
    },
    {
     "data": {
      "text/plain": [
       "array([[0.99999976],\n",
       "       [0.99999976],\n",
       "       [0.99999976],\n",
       "       [0.99999976]], dtype=float32)"
      ]
     },
     "execution_count": 76,
     "metadata": {},
     "output_type": "execute_result"
    }
   ],
   "source": [
    "discriminator.predict(img)"
   ]
  },
  {
   "cell_type": "code",
   "execution_count": 77,
   "metadata": {
    "execution": {
     "iopub.execute_input": "2022-11-06T10:17:05.170860Z",
     "iopub.status.busy": "2022-11-06T10:17:05.170548Z",
     "iopub.status.idle": "2022-11-06T10:17:05.213799Z",
     "shell.execute_reply": "2022-11-06T10:17:05.213152Z",
     "shell.execute_reply.started": "2022-11-06T10:17:05.170838Z"
    }
   },
   "outputs": [
    {
     "name": "stdout",
     "output_type": "stream",
     "text": [
      "1/1 [==============================] - 0s 15ms/step\n"
     ]
    },
    {
     "data": {
      "text/plain": [
       "array([[1.],\n",
       "       [1.],\n",
       "       [1.],\n",
       "       [1.]], dtype=float32)"
      ]
     },
     "execution_count": 77,
     "metadata": {},
     "output_type": "execute_result"
    }
   ],
   "source": [
    "discriminator.predict(real_images.__getitem__(0)[:4])"
   ]
  },
  {
   "cell_type": "code",
   "execution_count": 78,
   "metadata": {
    "execution": {
     "iopub.execute_input": "2022-11-06T10:18:52.891783Z",
     "iopub.status.busy": "2022-11-06T10:18:52.891216Z",
     "iopub.status.idle": "2022-11-06T10:18:52.947227Z",
     "shell.execute_reply": "2022-11-06T10:18:52.946214Z",
     "shell.execute_reply.started": "2022-11-06T10:18:52.891758Z"
    }
   },
   "outputs": [
    {
     "ename": "TypeError",
     "evalue": "Inputs to a layer should be tensors. Got: <__main__.ImagesBatchGenerator object at 0x7faeff6b9850>",
     "output_type": "error",
     "traceback": [
      "\u001b[0;31m---------------------------------------------------------------------------\u001b[0m",
      "\u001b[0;31mTypeError\u001b[0m                                 Traceback (most recent call last)",
      "Input \u001b[0;32mIn [78]\u001b[0m, in \u001b[0;36m<cell line: 1>\u001b[0;34m()\u001b[0m\n\u001b[0;32m----> 1\u001b[0m yhat_real \u001b[38;5;241m=\u001b[39m \u001b[43mdiscriminator\u001b[49m\u001b[43m(\u001b[49m\u001b[43mreal_images\u001b[49m\u001b[43m,\u001b[49m\u001b[43m \u001b[49m\u001b[43mtraining\u001b[49m\u001b[38;5;241;43m=\u001b[39;49m\u001b[38;5;28;43;01mTrue\u001b[39;49;00m\u001b[43m)\u001b[49m \u001b[38;5;66;03m# Should be all zeros\u001b[39;00m\n\u001b[1;32m      2\u001b[0m yhat_fake \u001b[38;5;241m=\u001b[39m discriminator(fake_images, training\u001b[38;5;241m=\u001b[39m\u001b[38;5;28;01mTrue\u001b[39;00m) \u001b[38;5;66;03m# Should be all ones\u001b[39;00m\n\u001b[1;32m      3\u001b[0m yhat_realfake \u001b[38;5;241m=\u001b[39m tf\u001b[38;5;241m.\u001b[39mconcat([yhat_real, yhat_fake], axis\u001b[38;5;241m=\u001b[39m\u001b[38;5;241m0\u001b[39m)\n",
      "File \u001b[0;32m/usr/local/lib/python3.9/dist-packages/keras/utils/traceback_utils.py:67\u001b[0m, in \u001b[0;36mfilter_traceback.<locals>.error_handler\u001b[0;34m(*args, **kwargs)\u001b[0m\n\u001b[1;32m     65\u001b[0m \u001b[38;5;28;01mexcept\u001b[39;00m \u001b[38;5;167;01mException\u001b[39;00m \u001b[38;5;28;01mas\u001b[39;00m e:  \u001b[38;5;66;03m# pylint: disable=broad-except\u001b[39;00m\n\u001b[1;32m     66\u001b[0m   filtered_tb \u001b[38;5;241m=\u001b[39m _process_traceback_frames(e\u001b[38;5;241m.\u001b[39m__traceback__)\n\u001b[0;32m---> 67\u001b[0m   \u001b[38;5;28;01mraise\u001b[39;00m e\u001b[38;5;241m.\u001b[39mwith_traceback(filtered_tb) \u001b[38;5;28;01mfrom\u001b[39;00m \u001b[38;5;28mNone\u001b[39m\n\u001b[1;32m     68\u001b[0m \u001b[38;5;28;01mfinally\u001b[39;00m:\n\u001b[1;32m     69\u001b[0m   \u001b[38;5;28;01mdel\u001b[39;00m filtered_tb\n",
      "File \u001b[0;32m/usr/local/lib/python3.9/dist-packages/keras/engine/input_spec.py:197\u001b[0m, in \u001b[0;36massert_input_compatibility\u001b[0;34m(input_spec, inputs, layer_name)\u001b[0m\n\u001b[1;32m    191\u001b[0m \u001b[38;5;28;01mfor\u001b[39;00m x \u001b[38;5;129;01min\u001b[39;00m inputs:\n\u001b[1;32m    192\u001b[0m   \u001b[38;5;66;03m# Having a shape/dtype is the only commonality of the various tensor-like\u001b[39;00m\n\u001b[1;32m    193\u001b[0m   \u001b[38;5;66;03m# objects that may be passed. The most common kind of invalid type we are\u001b[39;00m\n\u001b[1;32m    194\u001b[0m   \u001b[38;5;66;03m# guarding for is a Layer instance (Functional API), which does not\u001b[39;00m\n\u001b[1;32m    195\u001b[0m   \u001b[38;5;66;03m# have a `shape` attribute.\u001b[39;00m\n\u001b[1;32m    196\u001b[0m   \u001b[38;5;28;01mif\u001b[39;00m \u001b[38;5;129;01mnot\u001b[39;00m \u001b[38;5;28mhasattr\u001b[39m(x, \u001b[38;5;124m'\u001b[39m\u001b[38;5;124mshape\u001b[39m\u001b[38;5;124m'\u001b[39m):\n\u001b[0;32m--> 197\u001b[0m     \u001b[38;5;28;01mraise\u001b[39;00m \u001b[38;5;167;01mTypeError\u001b[39;00m(\u001b[38;5;124mf\u001b[39m\u001b[38;5;124m'\u001b[39m\u001b[38;5;124mInputs to a layer should be tensors. Got: \u001b[39m\u001b[38;5;132;01m{\u001b[39;00mx\u001b[38;5;132;01m}\u001b[39;00m\u001b[38;5;124m'\u001b[39m)\n\u001b[1;32m    199\u001b[0m \u001b[38;5;28;01mif\u001b[39;00m \u001b[38;5;28mlen\u001b[39m(inputs) \u001b[38;5;241m!=\u001b[39m \u001b[38;5;28mlen\u001b[39m(input_spec):\n\u001b[1;32m    200\u001b[0m   \u001b[38;5;28;01mraise\u001b[39;00m \u001b[38;5;167;01mValueError\u001b[39;00m(\u001b[38;5;124mf\u001b[39m\u001b[38;5;124m'\u001b[39m\u001b[38;5;124mLayer \u001b[39m\u001b[38;5;124m\"\u001b[39m\u001b[38;5;132;01m{\u001b[39;00mlayer_name\u001b[38;5;132;01m}\u001b[39;00m\u001b[38;5;124m\"\u001b[39m\u001b[38;5;124m expects \u001b[39m\u001b[38;5;132;01m{\u001b[39;00m\u001b[38;5;28mlen\u001b[39m(input_spec)\u001b[38;5;132;01m}\u001b[39;00m\u001b[38;5;124m input(s),\u001b[39m\u001b[38;5;124m'\u001b[39m\n\u001b[1;32m    201\u001b[0m                    \u001b[38;5;124mf\u001b[39m\u001b[38;5;124m'\u001b[39m\u001b[38;5;124m but it received \u001b[39m\u001b[38;5;132;01m{\u001b[39;00m\u001b[38;5;28mlen\u001b[39m(inputs)\u001b[38;5;132;01m}\u001b[39;00m\u001b[38;5;124m input tensors. \u001b[39m\u001b[38;5;124m'\u001b[39m\n\u001b[1;32m    202\u001b[0m                    \u001b[38;5;124mf\u001b[39m\u001b[38;5;124m'\u001b[39m\u001b[38;5;124mInputs received: \u001b[39m\u001b[38;5;132;01m{\u001b[39;00minputs\u001b[38;5;132;01m}\u001b[39;00m\u001b[38;5;124m'\u001b[39m)\n",
      "\u001b[0;31mTypeError\u001b[0m: Inputs to a layer should be tensors. Got: <__main__.ImagesBatchGenerator object at 0x7faeff6b9850>"
     ]
    }
   ],
   "source": [
    "yhat_real = discriminator(real_images.__getitem__(0)[:4], training=True) # Should be all zeros\n",
    "yhat_fake = discriminator(fake_images, training=True) # Should be all ones\n",
    "yhat_realfake = tf.concat([yhat_real, yhat_fake], axis=0)\n",
    "\n",
    "# Create labels for real and fake images\n",
    "y_realfake = tf.concat([tf.zeros_like(yhat_real), tf.ones_like(yhat_fake)], axis=0)"
   ]
  },
  {
   "cell_type": "markdown",
   "metadata": {},
   "source": [
    "## 3. Training Loop"
   ]
  },
  {
   "cell_type": "markdown",
   "metadata": {},
   "source": [
    "### 3.1. Losses and Optimzizers"
   ]
  },
  {
   "cell_type": "code",
   "execution_count": 59,
   "metadata": {
    "execution": {
     "iopub.execute_input": "2022-11-06T10:01:49.498940Z",
     "iopub.status.busy": "2022-11-06T10:01:49.498366Z",
     "iopub.status.idle": "2022-11-06T10:01:49.501631Z",
     "shell.execute_reply": "2022-11-06T10:01:49.501055Z",
     "shell.execute_reply.started": "2022-11-06T10:01:49.498918Z"
    }
   },
   "outputs": [],
   "source": [
    "from keras.optimizers import Adam\n",
    "from keras.losses import BinaryCrossentropy"
   ]
  },
  {
   "cell_type": "code",
   "execution_count": 60,
   "metadata": {
    "execution": {
     "iopub.execute_input": "2022-11-06T10:01:49.502638Z",
     "iopub.status.busy": "2022-11-06T10:01:49.502436Z",
     "iopub.status.idle": "2022-11-06T10:01:49.506114Z",
     "shell.execute_reply": "2022-11-06T10:01:49.505412Z",
     "shell.execute_reply.started": "2022-11-06T10:01:49.502620Z"
    }
   },
   "outputs": [],
   "source": [
    "g_opt = Adam(learning_rate=0.0001)\n",
    "d_opt = Adam(learning_rate=0.00001)\n",
    "\n",
    "g_loss = BinaryCrossentropy()\n",
    "d_loss = BinaryCrossentropy()"
   ]
  },
  {
   "cell_type": "markdown",
   "metadata": {},
   "source": [
    "### 3.2. Custom Model"
   ]
  },
  {
   "cell_type": "code",
   "execution_count": 61,
   "metadata": {
    "execution": {
     "iopub.execute_input": "2022-11-06T10:01:49.507256Z",
     "iopub.status.busy": "2022-11-06T10:01:49.506860Z",
     "iopub.status.idle": "2022-11-06T10:01:49.509897Z",
     "shell.execute_reply": "2022-11-06T10:01:49.509271Z",
     "shell.execute_reply.started": "2022-11-06T10:01:49.507237Z"
    }
   },
   "outputs": [],
   "source": [
    "from keras.models import Model"
   ]
  },
  {
   "cell_type": "markdown",
   "metadata": {},
   "source": [
    "Input example"
   ]
  },
  {
   "cell_type": "code",
   "execution_count": 62,
   "metadata": {
    "execution": {
     "iopub.execute_input": "2022-11-06T10:01:49.511077Z",
     "iopub.status.busy": "2022-11-06T10:01:49.510615Z",
     "iopub.status.idle": "2022-11-06T10:01:49.523612Z",
     "shell.execute_reply": "2022-11-06T10:01:49.523016Z",
     "shell.execute_reply.started": "2022-11-06T10:01:49.511058Z"
    }
   },
   "outputs": [
    {
     "data": {
      "text/plain": [
       "<tf.Tensor: shape=(6, 128, 1), dtype=float32, numpy=\n",
       "array([[[ 1.46141207e+00],\n",
       "        [ 5.68333805e-01],\n",
       "        [ 1.70381820e+00],\n",
       "        [-1.33008564e+00],\n",
       "        [ 1.20359838e+00],\n",
       "        [ 5.58634758e-01],\n",
       "        [-1.04929709e+00],\n",
       "        [ 1.30996835e+00],\n",
       "        [-7.82635927e-01],\n",
       "        [ 2.42261720e+00],\n",
       "        [ 1.36178777e-01],\n",
       "        [ 4.18184966e-01],\n",
       "        [-5.36141396e-01],\n",
       "        [ 1.51367649e-01],\n",
       "        [ 1.36219716e+00],\n",
       "        [-5.80015555e-02],\n",
       "        [ 8.40083599e-01],\n",
       "        [-7.50243604e-01],\n",
       "        [ 1.19795799e+00],\n",
       "        [ 5.12193501e-01],\n",
       "        [-1.84500273e-02],\n",
       "        [-4.45459366e-01],\n",
       "        [ 5.26701398e-02],\n",
       "        [-1.17102444e+00],\n",
       "        [ 8.13448966e-01],\n",
       "        [-1.36252820e+00],\n",
       "        [-1.20075989e+00],\n",
       "        [ 9.41068470e-01],\n",
       "        [-8.27499270e-01],\n",
       "        [-5.83817124e-01],\n",
       "        [-8.35041761e-01],\n",
       "        [ 7.77322710e-01],\n",
       "        [-6.00419164e-01],\n",
       "        [-3.20098162e-01],\n",
       "        [-5.84807396e-02],\n",
       "        [ 1.51828086e+00],\n",
       "        [ 1.33140296e-01],\n",
       "        [-8.83982778e-01],\n",
       "        [ 3.92241031e-01],\n",
       "        [-5.29423416e-01],\n",
       "        [ 4.37122047e-01],\n",
       "        [ 1.19172812e+00],\n",
       "        [ 1.07604110e+00],\n",
       "        [-8.99685025e-01],\n",
       "        [-1.78481534e-01],\n",
       "        [-1.71316206e+00],\n",
       "        [-7.21204102e-01],\n",
       "        [-6.91635847e-01],\n",
       "        [-1.41880178e+00],\n",
       "        [ 1.54198512e-01],\n",
       "        [-1.06402254e+00],\n",
       "        [ 5.49248606e-02],\n",
       "        [ 2.22405601e+00],\n",
       "        [-7.36690164e-02],\n",
       "        [-1.10920179e+00],\n",
       "        [ 7.06877530e-01],\n",
       "        [-4.07089263e-01],\n",
       "        [-3.34835768e-01],\n",
       "        [-1.26320079e-01],\n",
       "        [ 9.72276479e-02],\n",
       "        [ 1.07523039e-01],\n",
       "        [ 9.34045613e-02],\n",
       "        [ 1.09011722e+00],\n",
       "        [ 7.31491446e-01],\n",
       "        [ 1.65691435e+00],\n",
       "        [-1.09276283e+00],\n",
       "        [-5.06009996e-01],\n",
       "        [-6.69764400e-01],\n",
       "        [ 6.91694319e-02],\n",
       "        [ 1.32161295e+00],\n",
       "        [-2.03202635e-01],\n",
       "        [-5.06087812e-03],\n",
       "        [ 1.02596855e+00],\n",
       "        [-1.75568378e+00],\n",
       "        [-6.98476315e-01],\n",
       "        [-4.49644655e-01],\n",
       "        [ 8.63662362e-01],\n",
       "        [ 1.38320899e+00],\n",
       "        [ 1.84894428e-01],\n",
       "        [ 1.69798702e-01],\n",
       "        [-6.35622799e-01],\n",
       "        [-8.68025243e-01],\n",
       "        [ 1.32609129e+00],\n",
       "        [-1.43903387e+00],\n",
       "        [ 1.22893131e+00],\n",
       "        [ 5.70918806e-02],\n",
       "        [ 9.58095431e-01],\n",
       "        [ 6.24055266e-01],\n",
       "        [ 1.50241065e+00],\n",
       "        [ 1.96817815e-01],\n",
       "        [ 6.45147681e-01],\n",
       "        [-3.42956543e-01],\n",
       "        [ 7.10685551e-01],\n",
       "        [ 1.35093808e+00],\n",
       "        [ 8.21841061e-01],\n",
       "        [ 1.67452824e+00],\n",
       "        [ 1.29609668e+00],\n",
       "        [-1.93966627e-01],\n",
       "        [-2.13918447e-01],\n",
       "        [-3.86564761e-01],\n",
       "        [-1.49271059e+00],\n",
       "        [-2.34327137e-01],\n",
       "        [-1.72243491e-01],\n",
       "        [ 1.10348678e+00],\n",
       "        [ 8.94119442e-01],\n",
       "        [-7.21665204e-01],\n",
       "        [-4.17381018e-01],\n",
       "        [ 6.80464268e-01],\n",
       "        [-1.72314548e+00],\n",
       "        [-5.90277851e-01],\n",
       "        [-5.33863246e-01],\n",
       "        [ 1.33226836e+00],\n",
       "        [ 2.57702917e-01],\n",
       "        [ 4.96215880e-01],\n",
       "        [ 5.73893130e-01],\n",
       "        [ 9.85201716e-01],\n",
       "        [ 1.27545786e+00],\n",
       "        [-1.00674140e+00],\n",
       "        [-4.24182773e-01],\n",
       "        [-4.86496598e-01],\n",
       "        [ 3.48383069e-01],\n",
       "        [-3.11392450e+00],\n",
       "        [-7.41557419e-01],\n",
       "        [ 3.06737095e-01],\n",
       "        [ 4.36990559e-01],\n",
       "        [-6.82318509e-01],\n",
       "        [ 9.81106699e-01],\n",
       "        [ 2.31816983e+00]],\n",
       "\n",
       "       [[ 4.53865528e-01],\n",
       "        [-1.66629314e+00],\n",
       "        [ 1.17330372e+00],\n",
       "        [ 1.19167876e+00],\n",
       "        [ 3.61364752e-01],\n",
       "        [-1.32354009e+00],\n",
       "        [ 1.09341812e+00],\n",
       "        [-8.47215414e-01],\n",
       "        [ 1.43423283e+00],\n",
       "        [-4.51069415e-01],\n",
       "        [-1.11615098e+00],\n",
       "        [-8.84673893e-01],\n",
       "        [-6.46711409e-01],\n",
       "        [ 1.17414522e+00],\n",
       "        [-6.00992560e-01],\n",
       "        [-1.32291615e+00],\n",
       "        [ 2.71437287e-01],\n",
       "        [ 1.02114940e+00],\n",
       "        [-1.40402091e+00],\n",
       "        [-4.03518379e-02],\n",
       "        [ 1.65866530e+00],\n",
       "        [ 7.50388265e-01],\n",
       "        [-1.34463882e+00],\n",
       "        [ 1.20096540e+00],\n",
       "        [-7.55632699e-01],\n",
       "        [-7.62652010e-02],\n",
       "        [ 2.04359964e-01],\n",
       "        [ 6.98707998e-01],\n",
       "        [ 6.00408614e-01],\n",
       "        [ 9.22576785e-01],\n",
       "        [-1.44174075e+00],\n",
       "        [ 8.99107635e-01],\n",
       "        [-6.73471689e-01],\n",
       "        [ 5.84696472e-01],\n",
       "        [ 5.32241821e-01],\n",
       "        [ 1.12344038e+00],\n",
       "        [ 4.68808025e-01],\n",
       "        [-1.65450251e+00],\n",
       "        [-1.36124158e+00],\n",
       "        [-1.51567531e+00],\n",
       "        [ 1.05655420e+00],\n",
       "        [-3.69486958e-01],\n",
       "        [-3.89298141e-01],\n",
       "        [ 2.30022502e+00],\n",
       "        [-1.22276187e+00],\n",
       "        [ 1.05803859e+00],\n",
       "        [ 2.33466402e-01],\n",
       "        [-5.26349068e-01],\n",
       "        [ 2.65763879e-01],\n",
       "        [-1.03325874e-01],\n",
       "        [-2.12757677e-01],\n",
       "        [-1.34954035e+00],\n",
       "        [ 1.22040665e+00],\n",
       "        [ 9.44149375e-01],\n",
       "        [-1.40810883e+00],\n",
       "        [ 9.02432621e-01],\n",
       "        [-7.22917438e-01],\n",
       "        [-5.91865301e-01],\n",
       "        [ 9.26140726e-01],\n",
       "        [ 7.79322565e-01],\n",
       "        [-1.82530069e+00],\n",
       "        [-1.03919315e+00],\n",
       "        [ 3.45439464e-01],\n",
       "        [-8.17827165e-01],\n",
       "        [-2.02599740e+00],\n",
       "        [ 1.62764347e+00],\n",
       "        [-2.29095981e-01],\n",
       "        [ 2.80826092e-02],\n",
       "        [-9.72661495e-01],\n",
       "        [ 6.95939735e-02],\n",
       "        [ 3.94728690e-01],\n",
       "        [ 9.48657572e-01],\n",
       "        [-1.26802289e+00],\n",
       "        [ 1.49518144e+00],\n",
       "        [-1.50292742e+00],\n",
       "        [ 6.45282418e-02],\n",
       "        [-6.59569442e-01],\n",
       "        [-9.34554860e-02],\n",
       "        [ 9.19836313e-02],\n",
       "        [-6.33194268e-01],\n",
       "        [ 2.92066723e-01],\n",
       "        [-2.06952906e+00],\n",
       "        [ 1.15201461e+00],\n",
       "        [-2.99029231e-01],\n",
       "        [-1.46065331e+00],\n",
       "        [-1.10616672e+00],\n",
       "        [ 4.04770494e-01],\n",
       "        [ 6.07351303e-01],\n",
       "        [ 1.75645545e-01],\n",
       "        [ 3.44037801e-01],\n",
       "        [-1.25665998e+00],\n",
       "        [-1.31994891e+00],\n",
       "        [-3.33882660e-01],\n",
       "        [ 1.45264089e+00],\n",
       "        [ 6.04323983e-01],\n",
       "        [-1.06013644e+00],\n",
       "        [-8.30946326e-01],\n",
       "        [ 3.86833251e-01],\n",
       "        [ 6.84094012e-01],\n",
       "        [-1.75615773e-01],\n",
       "        [-1.31106508e+00],\n",
       "        [-8.83985281e-01],\n",
       "        [-7.95723796e-01],\n",
       "        [-1.55612873e-02],\n",
       "        [ 1.10204613e+00],\n",
       "        [ 1.09023952e+00],\n",
       "        [ 1.15507150e+00],\n",
       "        [ 1.06161916e+00],\n",
       "        [ 6.52531564e-01],\n",
       "        [-9.65375662e-01],\n",
       "        [-4.68058527e-01],\n",
       "        [ 2.92504102e-01],\n",
       "        [ 1.16238880e+00],\n",
       "        [-6.71338022e-01],\n",
       "        [-1.20075554e-01],\n",
       "        [ 1.25365186e+00],\n",
       "        [ 4.51265991e-01],\n",
       "        [ 1.08949172e+00],\n",
       "        [-9.59662795e-01],\n",
       "        [ 6.70034111e-01],\n",
       "        [-5.08986294e-01],\n",
       "        [ 2.87118626e+00],\n",
       "        [ 1.83934963e+00],\n",
       "        [ 2.09266067e-01],\n",
       "        [ 9.74017441e-01],\n",
       "        [ 8.97931695e-01],\n",
       "        [-5.36336124e-01],\n",
       "        [-3.28802139e-01]],\n",
       "\n",
       "       [[-2.02728033e+00],\n",
       "        [-2.70481408e-01],\n",
       "        [-5.13958275e-01],\n",
       "        [ 6.77529156e-01],\n",
       "        [ 1.34364474e+00],\n",
       "        [-2.95704395e-01],\n",
       "        [-8.52747798e-01],\n",
       "        [ 1.87433922e+00],\n",
       "        [ 2.70724148e-01],\n",
       "        [ 6.46571100e-01],\n",
       "        [-8.01813185e-01],\n",
       "        [ 3.65134865e-01],\n",
       "        [-1.21586645e+00],\n",
       "        [-1.22521138e+00],\n",
       "        [ 4.08581674e-01],\n",
       "        [-2.19323218e-01],\n",
       "        [ 1.23384155e-01],\n",
       "        [-1.05502737e+00],\n",
       "        [-5.04192054e-01],\n",
       "        [ 2.30490541e+00],\n",
       "        [-1.91258937e-01],\n",
       "        [ 1.22475827e+00],\n",
       "        [ 1.45996439e+00],\n",
       "        [ 7.31480181e-01],\n",
       "        [-8.10817182e-01],\n",
       "        [ 1.01345873e+00],\n",
       "        [ 8.27151120e-01],\n",
       "        [-1.32320213e+00],\n",
       "        [-5.83315074e-01],\n",
       "        [ 9.37907934e-01],\n",
       "        [ 2.93058485e-01],\n",
       "        [-2.88019270e-01],\n",
       "        [-9.99190271e-01],\n",
       "        [-3.50262046e-01],\n",
       "        [ 2.57002187e+00],\n",
       "        [ 6.27060354e-01],\n",
       "        [ 3.95485550e-01],\n",
       "        [ 4.69671816e-01],\n",
       "        [-8.18129063e-01],\n",
       "        [-2.54295087e+00],\n",
       "        [-2.42990255e-03],\n",
       "        [-3.73437017e-01],\n",
       "        [-1.96129143e-01],\n",
       "        [-1.78393376e+00],\n",
       "        [ 2.43424341e-01],\n",
       "        [-9.87671137e-01],\n",
       "        [ 9.68974829e-01],\n",
       "        [ 6.22538887e-02],\n",
       "        [-3.06607544e-01],\n",
       "        [-1.28084266e+00],\n",
       "        [-1.46921897e+00],\n",
       "        [ 6.56065106e-01],\n",
       "        [-1.66428947e+00],\n",
       "        [-6.49637282e-01],\n",
       "        [-2.02185464e+00],\n",
       "        [-4.68753666e-01],\n",
       "        [-4.89420980e-01],\n",
       "        [-1.36702669e+00],\n",
       "        [ 4.52481210e-03],\n",
       "        [ 4.39907610e-01],\n",
       "        [ 1.90088809e+00],\n",
       "        [-3.74757260e-01],\n",
       "        [ 1.95052832e-01],\n",
       "        [ 1.96858323e+00],\n",
       "        [ 6.27367616e-01],\n",
       "        [-1.26314545e+00],\n",
       "        [-6.19902849e-01],\n",
       "        [ 1.24307849e-01],\n",
       "        [ 3.78262997e-01],\n",
       "        [ 2.90666044e-01],\n",
       "        [-1.07952285e+00],\n",
       "        [ 1.63823462e+00],\n",
       "        [-9.79525805e-01],\n",
       "        [-7.28089958e-02],\n",
       "        [ 4.35264260e-01],\n",
       "        [-7.01855302e-01],\n",
       "        [ 4.58946764e-01],\n",
       "        [-1.79019839e-01],\n",
       "        [ 1.60570145e+00],\n",
       "        [ 8.43882561e-01],\n",
       "        [-9.36429083e-01],\n",
       "        [ 2.41788343e-01],\n",
       "        [-9.72038284e-02],\n",
       "        [ 3.58296096e-01],\n",
       "        [ 2.80898362e-01],\n",
       "        [-9.10116315e-01],\n",
       "        [-8.37274432e-01],\n",
       "        [-3.73824835e-01],\n",
       "        [-6.19343221e-01],\n",
       "        [ 7.83887088e-01],\n",
       "        [-7.94328094e-01],\n",
       "        [ 1.07906246e+00],\n",
       "        [ 7.53420234e-01],\n",
       "        [-1.90965343e+00],\n",
       "        [-6.46674454e-01],\n",
       "        [-6.29275680e-01],\n",
       "        [ 1.21279962e-01],\n",
       "        [-7.48771131e-01],\n",
       "        [ 1.52173579e+00],\n",
       "        [ 7.46214211e-01],\n",
       "        [-1.34272504e+00],\n",
       "        [-1.25980759e+00],\n",
       "        [-2.85988361e-01],\n",
       "        [ 3.12122442e-02],\n",
       "        [ 8.94930124e-01],\n",
       "        [-1.84164858e+00],\n",
       "        [ 5.13609648e-01],\n",
       "        [ 7.09599614e-01],\n",
       "        [ 5.29789254e-02],\n",
       "        [ 9.69115794e-02],\n",
       "        [-2.13398576e-01],\n",
       "        [ 2.16167164e+00],\n",
       "        [ 1.06598854e+00],\n",
       "        [ 4.25269037e-01],\n",
       "        [ 1.43036652e+00],\n",
       "        [ 7.45699048e-01],\n",
       "        [ 2.41760635e+00],\n",
       "        [-5.50548807e-02],\n",
       "        [ 1.41465347e-02],\n",
       "        [ 8.39747906e-01],\n",
       "        [-8.59488189e-01],\n",
       "        [-6.90735579e-01],\n",
       "        [-1.35335279e+00],\n",
       "        [ 1.01691794e+00],\n",
       "        [ 6.01814091e-02],\n",
       "        [ 8.69466245e-01],\n",
       "        [-4.72291186e-02],\n",
       "        [-3.12765896e-01]],\n",
       "\n",
       "       [[-4.26223904e-01],\n",
       "        [ 1.28368169e-01],\n",
       "        [ 5.05610824e-01],\n",
       "        [-1.03083098e+00],\n",
       "        [-2.92431623e-01],\n",
       "        [-1.46270871e+00],\n",
       "        [-1.37100101e+00],\n",
       "        [-1.62490115e-01],\n",
       "        [-7.28927135e-01],\n",
       "        [ 1.76424336e+00],\n",
       "        [-1.56600928e+00],\n",
       "        [-1.10809255e+00],\n",
       "        [-9.13559645e-03],\n",
       "        [ 1.04518145e-01],\n",
       "        [ 1.82419527e+00],\n",
       "        [ 5.10876656e-01],\n",
       "        [-9.92607534e-01],\n",
       "        [ 5.18535852e-01],\n",
       "        [ 1.20393288e+00],\n",
       "        [ 1.61020303e+00],\n",
       "        [ 8.74519229e-01],\n",
       "        [-5.92815936e-01],\n",
       "        [ 7.98058748e-01],\n",
       "        [ 2.22198203e-01],\n",
       "        [-5.30700266e-01],\n",
       "        [-9.50421035e-01],\n",
       "        [ 1.03217876e+00],\n",
       "        [-2.44530058e+00],\n",
       "        [ 6.84188724e-01],\n",
       "        [-1.65482628e+00],\n",
       "        [-7.44000673e-01],\n",
       "        [ 1.50878274e+00],\n",
       "        [ 9.35546398e-01],\n",
       "        [ 1.69124305e+00],\n",
       "        [-3.03613096e-01],\n",
       "        [-2.38922691e+00],\n",
       "        [ 2.58147717e-01],\n",
       "        [ 1.12889074e-01],\n",
       "        [-1.03497362e+00],\n",
       "        [-1.10327697e+00],\n",
       "        [-6.04431450e-01],\n",
       "        [ 8.07433188e-01],\n",
       "        [-8.00316930e-02],\n",
       "        [-7.24260032e-01],\n",
       "        [-1.23850517e-02],\n",
       "        [ 2.94634253e-01],\n",
       "        [-1.81323695e+00],\n",
       "        [-1.19664347e+00],\n",
       "        [ 8.11312318e-01],\n",
       "        [-1.84979761e+00],\n",
       "        [-2.36922055e-01],\n",
       "        [-5.34542859e-01],\n",
       "        [ 1.05933213e+00],\n",
       "        [ 1.33361137e+00],\n",
       "        [-2.54097730e-01],\n",
       "        [ 7.18381882e-01],\n",
       "        [-1.15100250e-01],\n",
       "        [ 1.39976859e+00],\n",
       "        [ 1.53127837e+00],\n",
       "        [-9.34302568e-01],\n",
       "        [-1.08678901e+00],\n",
       "        [-8.68125498e-01],\n",
       "        [ 2.74637312e-01],\n",
       "        [ 1.49221063e+00],\n",
       "        [-1.63307846e+00],\n",
       "        [ 1.76147044e+00],\n",
       "        [-4.33215559e-01],\n",
       "        [-7.15396047e-01],\n",
       "        [-1.79249239e+00],\n",
       "        [-4.62244362e-01],\n",
       "        [ 5.27247488e-01],\n",
       "        [-1.43817449e+00],\n",
       "        [-9.61565018e-01],\n",
       "        [ 1.01573861e+00],\n",
       "        [-3.52660596e-01],\n",
       "        [-1.11316931e+00],\n",
       "        [-1.95894587e+00],\n",
       "        [ 1.17035663e+00],\n",
       "        [-8.20373118e-01],\n",
       "        [-6.23348355e-01],\n",
       "        [ 2.58589864e-01],\n",
       "        [ 5.12794137e-01],\n",
       "        [ 8.63763094e-01],\n",
       "        [ 1.16856508e-01],\n",
       "        [ 1.30338073e+00],\n",
       "        [-9.17477161e-02],\n",
       "        [ 4.09590513e-01],\n",
       "        [ 9.68803931e-03],\n",
       "        [-3.70153546e-01],\n",
       "        [-1.22138166e+00],\n",
       "        [ 1.05718243e+00],\n",
       "        [-9.25913513e-01],\n",
       "        [ 1.76851654e+00],\n",
       "        [ 6.36779368e-01],\n",
       "        [ 1.34210944e+00],\n",
       "        [ 3.03852707e-01],\n",
       "        [-4.42315936e-01],\n",
       "        [ 8.39871824e-01],\n",
       "        [ 1.76824942e-01],\n",
       "        [ 9.52019274e-01],\n",
       "        [ 1.27816439e+00],\n",
       "        [ 1.30619884e+00],\n",
       "        [-3.77616137e-01],\n",
       "        [ 2.07835793e-01],\n",
       "        [-2.03105354e+00],\n",
       "        [ 1.65334001e-01],\n",
       "        [ 7.95985699e-01],\n",
       "        [-1.30249774e+00],\n",
       "        [-5.71258128e-01],\n",
       "        [ 3.96010399e-01],\n",
       "        [ 5.73085964e-01],\n",
       "        [ 1.62954605e+00],\n",
       "        [-1.35184765e+00],\n",
       "        [ 4.04914856e-01],\n",
       "        [ 1.32538188e+00],\n",
       "        [-6.78044319e-01],\n",
       "        [-3.07150744e-02],\n",
       "        [-6.70790970e-01],\n",
       "        [ 3.05175245e-01],\n",
       "        [-9.42313969e-01],\n",
       "        [-5.50412893e-01],\n",
       "        [-2.18680903e-01],\n",
       "        [-2.02208090e+00],\n",
       "        [-1.41690350e+00],\n",
       "        [-7.33711123e-01],\n",
       "        [ 5.48832230e-02],\n",
       "        [ 6.43231273e-01],\n",
       "        [-1.79667556e+00]],\n",
       "\n",
       "       [[-1.55739039e-01],\n",
       "        [ 3.00430328e-01],\n",
       "        [ 6.44596100e-01],\n",
       "        [-6.16051435e-01],\n",
       "        [-9.21857595e-01],\n",
       "        [ 5.22746861e-01],\n",
       "        [ 1.17747378e+00],\n",
       "        [ 7.76262522e-01],\n",
       "        [-1.08687317e+00],\n",
       "        [-3.69797379e-01],\n",
       "        [ 1.01760852e+00],\n",
       "        [ 2.04917097e+00],\n",
       "        [-3.18002135e-01],\n",
       "        [ 1.18578553e+00],\n",
       "        [ 1.32992673e+00],\n",
       "        [-9.91950929e-01],\n",
       "        [ 3.37350935e-01],\n",
       "        [-4.64903206e-01],\n",
       "        [ 1.37834951e-01],\n",
       "        [-4.12210137e-01],\n",
       "        [-3.91264975e-01],\n",
       "        [-1.78700769e+00],\n",
       "        [ 3.78188223e-01],\n",
       "        [-5.43416619e-01],\n",
       "        [ 7.03311682e-01],\n",
       "        [ 1.46086240e+00],\n",
       "        [-2.28444979e-01],\n",
       "        [ 6.58006072e-01],\n",
       "        [ 1.39259243e+00],\n",
       "        [ 7.01741099e-01],\n",
       "        [-3.07917930e-02],\n",
       "        [-8.90504569e-02],\n",
       "        [-1.11544943e+00],\n",
       "        [-4.99364138e-01],\n",
       "        [ 9.33345973e-01],\n",
       "        [ 9.16086674e-01],\n",
       "        [-9.15314496e-01],\n",
       "        [-9.32570517e-01],\n",
       "        [ 1.56504560e+00],\n",
       "        [ 1.43764985e+00],\n",
       "        [-4.42031413e-01],\n",
       "        [ 6.35052204e-01],\n",
       "        [ 9.16797459e-01],\n",
       "        [-7.62284338e-01],\n",
       "        [ 1.92909920e+00],\n",
       "        [-8.54559243e-01],\n",
       "        [-1.70708701e-01],\n",
       "        [ 1.94936380e-01],\n",
       "        [ 3.00924569e-01],\n",
       "        [-5.66916704e-01],\n",
       "        [ 7.60943413e-01],\n",
       "        [ 1.16497529e+00],\n",
       "        [ 1.15645802e+00],\n",
       "        [-2.35136569e-01],\n",
       "        [-2.22787166e+00],\n",
       "        [ 8.67300928e-02],\n",
       "        [ 7.33725205e-02],\n",
       "        [ 4.46902066e-01],\n",
       "        [-3.63567114e-01],\n",
       "        [ 4.45080966e-01],\n",
       "        [-2.31803477e-01],\n",
       "        [ 1.18255639e+00],\n",
       "        [-1.37337935e+00],\n",
       "        [-7.66891181e-01],\n",
       "        [ 9.36145484e-01],\n",
       "        [-1.55653715e+00],\n",
       "        [ 9.00464296e-01],\n",
       "        [ 1.22937962e-01],\n",
       "        [-2.03564119e+00],\n",
       "        [ 1.49895847e+00],\n",
       "        [ 3.21627259e-01],\n",
       "        [-2.45820546e+00],\n",
       "        [-2.44726688e-01],\n",
       "        [ 1.68689108e+00],\n",
       "        [-1.21057391e+00],\n",
       "        [-2.78767049e-01],\n",
       "        [-1.56251943e+00],\n",
       "        [-8.28163847e-02],\n",
       "        [-1.05619073e+00],\n",
       "        [ 6.73593104e-01],\n",
       "        [-1.79063237e+00],\n",
       "        [-7.60102749e-01],\n",
       "        [ 1.71021855e+00],\n",
       "        [ 2.34258905e-01],\n",
       "        [-6.57832399e-02],\n",
       "        [ 2.06287235e-01],\n",
       "        [-1.27103114e+00],\n",
       "        [-7.41932571e-01],\n",
       "        [-5.66129625e-01],\n",
       "        [-3.69694918e-01],\n",
       "        [ 2.52531677e-01],\n",
       "        [-5.56855083e-01],\n",
       "        [ 1.54817832e+00],\n",
       "        [ 8.72144699e-02],\n",
       "        [ 5.55249035e-01],\n",
       "        [ 1.82984024e-01],\n",
       "        [-2.32612014e+00],\n",
       "        [ 7.20340192e-01],\n",
       "        [ 1.45710781e-01],\n",
       "        [ 1.02231145e+00],\n",
       "        [ 4.33765352e-01],\n",
       "        [-1.96888924e+00],\n",
       "        [-2.07295656e+00],\n",
       "        [-3.09384286e-01],\n",
       "        [-2.20066950e-01],\n",
       "        [-1.87203562e+00],\n",
       "        [-2.06017315e-01],\n",
       "        [ 1.03962600e+00],\n",
       "        [-1.14448655e+00],\n",
       "        [ 2.03973603e+00],\n",
       "        [-8.45618844e-01],\n",
       "        [-1.79461807e-01],\n",
       "        [-1.09223199e+00],\n",
       "        [ 1.45456314e+00],\n",
       "        [-1.20309210e+00],\n",
       "        [-6.00889742e-01],\n",
       "        [-1.67447734e+00],\n",
       "        [-2.98334628e-01],\n",
       "        [ 5.59881687e-01],\n",
       "        [-5.60870647e-01],\n",
       "        [ 7.05511153e-01],\n",
       "        [-1.07391275e-01],\n",
       "        [-1.56857836e+00],\n",
       "        [ 1.34474230e+00],\n",
       "        [ 7.45852351e-01],\n",
       "        [ 5.05899906e-01],\n",
       "        [-4.95592356e-01],\n",
       "        [ 1.32564351e-01]],\n",
       "\n",
       "       [[-1.76015347e-01],\n",
       "        [ 8.92081201e-01],\n",
       "        [ 5.45090795e-01],\n",
       "        [-2.97060156e+00],\n",
       "        [-3.22945446e-01],\n",
       "        [-8.58914196e-01],\n",
       "        [-1.07432507e-01],\n",
       "        [-3.90566327e-02],\n",
       "        [-1.22405851e+00],\n",
       "        [ 1.50707805e+00],\n",
       "        [ 2.27534032e+00],\n",
       "        [-1.76169187e-01],\n",
       "        [-5.02395034e-01],\n",
       "        [ 8.51878047e-01],\n",
       "        [ 1.62364340e+00],\n",
       "        [ 2.21449807e-01],\n",
       "        [ 9.66069937e-01],\n",
       "        [-1.35939002e+00],\n",
       "        [ 1.12864876e+00],\n",
       "        [ 2.27062404e-01],\n",
       "        [ 3.34859014e-01],\n",
       "        [-2.42971435e-01],\n",
       "        [ 3.27671841e-02],\n",
       "        [ 6.63482785e-01],\n",
       "        [ 4.73492682e-01],\n",
       "        [ 8.66669863e-02],\n",
       "        [ 1.94622815e+00],\n",
       "        [ 6.86486661e-01],\n",
       "        [ 4.35479790e-01],\n",
       "        [ 1.12363946e+00],\n",
       "        [-6.84352696e-01],\n",
       "        [-1.38569438e+00],\n",
       "        [ 1.29989767e+00],\n",
       "        [-1.61412668e+00],\n",
       "        [-1.13838387e+00],\n",
       "        [-1.47539288e-01],\n",
       "        [-1.58703864e-01],\n",
       "        [-8.87159169e-01],\n",
       "        [-1.46367908e+00],\n",
       "        [-1.98072363e-02],\n",
       "        [-3.44437003e-01],\n",
       "        [-1.89112139e+00],\n",
       "        [ 1.39357984e+00],\n",
       "        [-6.96027130e-02],\n",
       "        [-3.54850471e-01],\n",
       "        [-1.13885731e-01],\n",
       "        [-1.95447922e-01],\n",
       "        [-3.09779793e-01],\n",
       "        [ 1.90766200e-01],\n",
       "        [-3.02912816e-02],\n",
       "        [-1.60644019e+00],\n",
       "        [ 1.39203876e-01],\n",
       "        [ 1.38595164e-01],\n",
       "        [-5.36523700e-01],\n",
       "        [ 3.27399552e-01],\n",
       "        [ 1.08665943e+00],\n",
       "        [ 1.95414615e+00],\n",
       "        [ 8.27550352e-01],\n",
       "        [-1.73066288e-01],\n",
       "        [ 1.45229852e+00],\n",
       "        [-1.29719391e-01],\n",
       "        [ 3.24829340e-01],\n",
       "        [ 7.19679296e-01],\n",
       "        [-5.58942974e-01],\n",
       "        [ 3.65534306e-01],\n",
       "        [ 1.73284841e+00],\n",
       "        [ 1.69297636e+00],\n",
       "        [-5.43976247e-01],\n",
       "        [-1.37349833e-02],\n",
       "        [-2.82670587e-01],\n",
       "        [-1.42699286e-01],\n",
       "        [ 7.90185273e-01],\n",
       "        [ 2.07459784e+00],\n",
       "        [ 1.71459630e-01],\n",
       "        [-7.59760678e-01],\n",
       "        [-4.20541912e-01],\n",
       "        [ 3.51621360e-02],\n",
       "        [-9.02656257e-01],\n",
       "        [ 4.05060112e-01],\n",
       "        [-1.21021843e+00],\n",
       "        [ 1.01730716e+00],\n",
       "        [ 5.19096971e-01],\n",
       "        [ 2.53334582e-01],\n",
       "        [-9.92551684e-01],\n",
       "        [ 1.04650927e+00],\n",
       "        [ 6.28358573e-02],\n",
       "        [ 1.53846705e+00],\n",
       "        [ 3.36151361e-01],\n",
       "        [-1.36351562e+00],\n",
       "        [ 1.15098335e-01],\n",
       "        [-9.72647488e-01],\n",
       "        [ 6.47910714e-01],\n",
       "        [-2.87576824e-01],\n",
       "        [-5.01755238e-01],\n",
       "        [ 7.99959064e-01],\n",
       "        [ 4.25125808e-01],\n",
       "        [-3.73055696e-01],\n",
       "        [-1.19995439e+00],\n",
       "        [-1.91949815e-01],\n",
       "        [-1.25647330e+00],\n",
       "        [-8.78971934e-01],\n",
       "        [ 1.52865219e+00],\n",
       "        [-1.32040024e+00],\n",
       "        [-8.61942768e-01],\n",
       "        [ 1.58426732e-01],\n",
       "        [ 1.21907842e+00],\n",
       "        [ 5.49915075e-01],\n",
       "        [ 9.37074840e-01],\n",
       "        [ 5.49772203e-01],\n",
       "        [ 6.98425353e-01],\n",
       "        [ 1.73092186e-01],\n",
       "        [-3.79833072e-01],\n",
       "        [-1.62660706e+00],\n",
       "        [ 2.85209864e-01],\n",
       "        [-4.40364838e-01],\n",
       "        [ 4.83732998e-01],\n",
       "        [ 8.46830430e-04],\n",
       "        [-4.30547535e-01],\n",
       "        [ 2.96012819e-01],\n",
       "        [ 1.76319659e-01],\n",
       "        [ 2.97978520e-01],\n",
       "        [ 1.29822171e+00],\n",
       "        [-1.68370163e+00],\n",
       "        [-1.59757566e+00],\n",
       "        [-4.38756421e-02],\n",
       "        [-1.25072682e+00],\n",
       "        [-5.96015811e-01],\n",
       "        [-4.74629074e-01]]], dtype=float32)>"
      ]
     },
     "execution_count": 62,
     "metadata": {},
     "output_type": "execute_result"
    }
   ],
   "source": [
    "tf.random.normal((6, 128, 1))"
   ]
  },
  {
   "cell_type": "code",
   "execution_count": 63,
   "metadata": {
    "execution": {
     "iopub.execute_input": "2022-11-06T10:01:49.524967Z",
     "iopub.status.busy": "2022-11-06T10:01:49.524373Z",
     "iopub.status.idle": "2022-11-06T10:01:49.531996Z",
     "shell.execute_reply": "2022-11-06T10:01:49.531406Z",
     "shell.execute_reply.started": "2022-11-06T10:01:49.524948Z"
    }
   },
   "outputs": [],
   "source": [
    "class GalaxyGAN(Model):\n",
    "    def __init__(self, generator, discriminator, batch_size, *args, **kwargs):\n",
    "        super().__init__(*args, **kwargs)\n",
    "        \n",
    "        # Create attributes for gen and disc\n",
    "        self.generator = generator\n",
    "        self.discriminator = discriminator\n",
    "        self.batch_size = batch_size\n",
    "    \n",
    "    def compile(self, g_opt, d_opt, g_loss, d_loss, *args, **kwargs):\n",
    "        # Compile with base class\n",
    "        super().compile(*args, **kwargs)\n",
    "        \n",
    "        self.g_opt = g_opt\n",
    "        self.d_opt = d_opt\n",
    "        self.g_loss = g_loss\n",
    "        self.d_loss = d_loss\n",
    "    \n",
    "    def train_step(self, batch):\n",
    "        # Get data\n",
    "        real_images = batch\n",
    "        fake_images = self.generator(tf.random.normal((self.batch_size, 128, 1)), training=False)\n",
    "        \n",
    "        # Train the discriminator\n",
    "        with tf.GradientTape() as d_tape:\n",
    "            # Pass the real and fake images to the discriminator model\n",
    "            yhat_real = self.discriminator(real_images, training=True) # Should be all zeros\n",
    "            yhat_fake = self.discriminator(fake_images, training=True) # Should be all ones\n",
    "            yhat_realfake = tf.concat([yhat_real, yhat_fake], axis=0)\n",
    "            \n",
    "            # Create labels for real and fake images\n",
    "            y_realfake = tf.concat([tf.zeros_like(yhat_real), tf.ones_like(yhat_fake)], axis=0)\n",
    "        \n",
    "            # Add some noise to the outputs\n",
    "            noise_real = 0.15*tf.random.uniform(tf.shape(yhat_real))\n",
    "            noise_fake = 0.15*tf.random.uniform(tf.shape(yhat_fake))\n",
    "            y_realfake += tf.concat([noise_real, noise_fake], axis=0) \n",
    "            \n",
    "            # Calculate loss - BINARYCROSS\n",
    "            total_d_loss = self.d_loss(y_realfake, yhat_realfake)\n",
    "            \n",
    "        # Apply backpropagtion - nn learn\n",
    "        dgrad = d_tape.gradient(total_d_loss, self.discriminator.trainable_variables)\n",
    "        self.d_opt.apply_gradients(zip(dgrad, self.discriminator.trainable_variables))\n",
    "        \n",
    "        # Train the generator\n",
    "        with tf.GradientTape() as g_tape:\n",
    "            # Generate some new images\n",
    "            gen_images = self.generator(tf.random.normal((self.batch_size,128,1)), training=True)\n",
    "            \n",
    "            # Create the predicted labels\n",
    "            predicted_labels = self.discriminator(gen_images, training=False)\n",
    "            \n",
    "            # Calculate loss\n",
    "            total_g_loss = self.g_loss(tf.zeros_like(predicted_labels), predicted_labels)\n",
    "            \n",
    "        # Apply backprop\n",
    "        ggrad = g_tape.gradient(total_g_loss, self.generator.trainable_variables)\n",
    "        self.g_opt.apply_gradients(zip(ggrad, self.generator.trainable_variables))\n",
    "        \n",
    "        return {\"d_loss\":total_d_loss, \"g_loss\":total_g_loss}\n",
    "            "
   ]
  },
  {
   "cell_type": "markdown",
   "metadata": {},
   "source": [
    "Load model from h5 foramt"
   ]
  },
  {
   "cell_type": "code",
   "execution_count": 64,
   "metadata": {
    "execution": {
     "iopub.execute_input": "2022-11-06T10:01:49.533191Z",
     "iopub.status.busy": "2022-11-06T10:01:49.532773Z",
     "iopub.status.idle": "2022-11-06T10:01:49.535531Z",
     "shell.execute_reply": "2022-11-06T10:01:49.534936Z",
     "shell.execute_reply.started": "2022-11-06T10:01:49.533173Z"
    }
   },
   "outputs": [],
   "source": [
    "# generator = keras.models.load_model('models/generator.h5')\n",
    "# discriminator = keras.models.load_model('models/discriminator.h5')"
   ]
  },
  {
   "cell_type": "code",
   "execution_count": 65,
   "metadata": {
    "execution": {
     "iopub.execute_input": "2022-11-06T10:01:49.536286Z",
     "iopub.status.busy": "2022-11-06T10:01:49.536118Z",
     "iopub.status.idle": "2022-11-06T10:01:49.542623Z",
     "shell.execute_reply": "2022-11-06T10:01:49.541929Z",
     "shell.execute_reply.started": "2022-11-06T10:01:49.536271Z"
    }
   },
   "outputs": [],
   "source": [
    "galaxy_gan = GalaxyGAN(generator, discriminator, batch_size=200)"
   ]
  },
  {
   "cell_type": "code",
   "execution_count": 66,
   "metadata": {
    "execution": {
     "iopub.execute_input": "2022-11-06T10:01:49.543531Z",
     "iopub.status.busy": "2022-11-06T10:01:49.543342Z",
     "iopub.status.idle": "2022-11-06T10:01:50.018365Z",
     "shell.execute_reply": "2022-11-06T10:01:50.017698Z",
     "shell.execute_reply.started": "2022-11-06T10:01:49.543513Z"
    }
   },
   "outputs": [
    {
     "name": "stdout",
     "output_type": "stream",
     "text": [
      "1/1 [==============================] - 0s 188ms/step\n"
     ]
    },
    {
     "data": {
      "image/png": "[encoded data removed]",
      "text/plain": [
       "<Figure size 1440x1440 with 5 Axes>"
      ]
     },
     "metadata": {
      "needs_background": "light"
     },
     "output_type": "display_data"
    }
   ],
   "source": [
    "images = galaxy_gan.generator.predict(tf.random.uniform((5, 128, 1)))\n",
    "fig, ax = plt.subplots(ncols=5, figsize=(20,20))\n",
    "for i in range(5):\n",
    "    ax[i].imshow(np.squeeze(images[i]))\n",
    "    ax[i].title.set_text(i)"
   ]
  },
  {
   "cell_type": "code",
   "execution_count": 67,
   "metadata": {
    "execution": {
     "iopub.execute_input": "2022-11-06T10:01:50.019666Z",
     "iopub.status.busy": "2022-11-06T10:01:50.019194Z",
     "iopub.status.idle": "2022-11-06T10:01:50.029957Z",
     "shell.execute_reply": "2022-11-06T10:01:50.029337Z",
     "shell.execute_reply.started": "2022-11-06T10:01:50.019647Z"
    }
   },
   "outputs": [],
   "source": [
    "galaxy_gan.compile(g_opt, d_opt, g_loss, d_loss)"
   ]
  },
  {
   "cell_type": "markdown",
   "metadata": {},
   "source": [
    "### 3.3. Callbacks"
   ]
  },
  {
   "cell_type": "code",
   "execution_count": 68,
   "metadata": {
    "execution": {
     "iopub.execute_input": "2022-11-06T10:01:50.031140Z",
     "iopub.status.busy": "2022-11-06T10:01:50.030716Z",
     "iopub.status.idle": "2022-11-06T10:01:50.035020Z",
     "shell.execute_reply": "2022-11-06T10:01:50.034419Z",
     "shell.execute_reply.started": "2022-11-06T10:01:50.031122Z"
    }
   },
   "outputs": [],
   "source": [
    "from tensorflow.keras.preprocessing.image import array_to_img\n",
    "from keras.callbacks import Callback"
   ]
  },
  {
   "cell_type": "code",
   "execution_count": 69,
   "metadata": {
    "execution": {
     "iopub.execute_input": "2022-11-06T10:01:50.035900Z",
     "iopub.status.busy": "2022-11-06T10:01:50.035694Z",
     "iopub.status.idle": "2022-11-06T10:01:50.040465Z",
     "shell.execute_reply": "2022-11-06T10:01:50.039881Z",
     "shell.execute_reply.started": "2022-11-06T10:01:50.035882Z"
    }
   },
   "outputs": [],
   "source": [
    "LAST_EPOCH=623\n",
    "\n",
    "class ModelMonitor(Callback):\n",
    "    def __init__(self, num_img=3, latent_dim=128):\n",
    "        self.num_img = num_img\n",
    "        self.latent_dim = latent_dim\n",
    "        \n",
    "    def on_epoch_end(self, epoch, logs=None):\n",
    "        random_latent_vectors = tf.random.uniform((self.num_img, self.latent_dim, 1))\n",
    "        generated_images = self.model.generator(random_latent_vectors)\n",
    "        generated_images *= 255\n",
    "        for i in range(self.num_img):\n",
    "            img = array_to_img(generated_images[i])\n",
    "            img.save(os.path.join('images', f'generated_img_{LAST_EPOCH+epoch}_{i}.png'))\n",
    "            \n",
    "        self.model.generator.save(os.path.join('models', 'generator'))\n",
    "        self.model.discriminator.save(os.path.join('models', 'discriminator'))"
   ]
  },
  {
   "cell_type": "markdown",
   "metadata": {},
   "source": [
    "### 3.4. Train"
   ]
  },
  {
   "cell_type": "markdown",
   "metadata": {},
   "source": [
    "For 6 hours we can do roughly 21 epochs"
   ]
  },
  {
   "cell_type": "code",
   "execution_count": 70,
   "metadata": {
    "execution": {
     "iopub.execute_input": "2022-11-06T10:01:50.041657Z",
     "iopub.status.busy": "2022-11-06T10:01:50.041183Z",
     "iopub.status.idle": "2022-11-06T10:01:50.044479Z",
     "shell.execute_reply": "2022-11-06T10:01:50.043854Z",
     "shell.execute_reply.started": "2022-11-06T10:01:50.041639Z"
    }
   },
   "outputs": [],
   "source": [
    "import tensorflow\n",
    "tensorflow.compat.v1.logging.set_verbosity(tf.compat.v1.logging.ERROR)"
   ]
  },
  {
   "cell_type": "code",
   "execution_count": 71,
   "metadata": {
    "execution": {
     "iopub.execute_input": "2022-11-06T10:01:50.045275Z",
     "iopub.status.busy": "2022-11-06T10:01:50.045105Z",
     "iopub.status.idle": "2022-11-06T10:16:22.989506Z",
     "shell.execute_reply": "2022-11-06T10:16:22.988739Z",
     "shell.execute_reply.started": "2022-11-06T10:01:50.045258Z"
    }
   },
   "outputs": [
    {
     "name": "stdout",
     "output_type": "stream",
     "text": [
      "Epoch 1/10\n"
     ]
    },
    {
     "name": "stderr",
     "output_type": "stream",
     "text": [
      "2022-11-06 10:01:53.236939: W tensorflow/core/common_runtime/bfc_allocator.cc:290] Allocator (GPU_0_bfc) ran out of memory trying to allocate 3.21GiB with freed_by_count=0. The caller indicates that this is not a failure, but this may mean that there could be performance gains if more memory were available.\n",
      "2022-11-06 10:01:53.237141: W tensorflow/core/common_runtime/bfc_allocator.cc:290] Allocator (GPU_0_bfc) ran out of memory trying to allocate 3.21GiB with freed_by_count=0. The caller indicates that this is not a failure, but this may mean that there could be performance gains if more memory were available.\n",
      "2022-11-06 10:01:53.939994: W tensorflow/core/common_runtime/bfc_allocator.cc:290] Allocator (GPU_0_bfc) ran out of memory trying to allocate 2.66GiB with freed_by_count=0. The caller indicates that this is not a failure, but this may mean that there could be performance gains if more memory were available.\n",
      "2022-11-06 10:01:53.940063: W tensorflow/core/common_runtime/bfc_allocator.cc:290] Allocator (GPU_0_bfc) ran out of memory trying to allocate 2.66GiB with freed_by_count=0. The caller indicates that this is not a failure, but this may mean that there could be performance gains if more memory were available.\n",
      "2022-11-06 10:01:54.366167: W tensorflow/core/common_runtime/bfc_allocator.cc:290] Allocator (GPU_0_bfc) ran out of memory trying to allocate 2.87GiB with freed_by_count=0. The caller indicates that this is not a failure, but this may mean that there could be performance gains if more memory were available.\n",
      "2022-11-06 10:01:54.366239: W tensorflow/core/common_runtime/bfc_allocator.cc:290] Allocator (GPU_0_bfc) ran out of memory trying to allocate 2.87GiB with freed_by_count=0. The caller indicates that this is not a failure, but this may mean that there could be performance gains if more memory were available.\n"
     ]
    },
    {
     "name": "stdout",
     "output_type": "stream",
     "text": [
      "100/100 [==============================] - ETA: 0s - d_loss: 6.4777 - g_loss: 15.4787"
     ]
    },
    {
     "name": "stderr",
     "output_type": "stream",
     "text": [
      "WARNING:absl:Found untraced functions such as _jit_compiled_convolution_op, _jit_compiled_convolution_op, _jit_compiled_convolution_op, _jit_compiled_convolution_op, _jit_compiled_convolution_op while saving (showing 5 of 6). These functions will not be directly callable after loading.\n",
      "WARNING:absl:Found untraced functions such as _jit_compiled_convolution_op, _jit_compiled_convolution_op, _jit_compiled_convolution_op, _jit_compiled_convolution_op while saving (showing 4 of 4). These functions will not be directly callable after loading.\n"
     ]
    },
    {
     "name": "stdout",
     "output_type": "stream",
     "text": [
      "100/100 [==============================] - 92s 855ms/step - d_loss: 6.4773 - g_loss: 15.4773\n",
      "Epoch 2/10\n",
      "100/100 [==============================] - ETA: 0s - d_loss: 6.4839 - g_loss: 15.3344"
     ]
    },
    {
     "name": "stderr",
     "output_type": "stream",
     "text": [
      "WARNING:absl:Found untraced functions such as _jit_compiled_convolution_op, _jit_compiled_convolution_op, _jit_compiled_convolution_op, _jit_compiled_convolution_op, _jit_compiled_convolution_op while saving (showing 5 of 6). These functions will not be directly callable after loading.\n",
      "WARNING:absl:Found untraced functions such as _jit_compiled_convolution_op, _jit_compiled_convolution_op, _jit_compiled_convolution_op, _jit_compiled_convolution_op while saving (showing 4 of 4). These functions will not be directly callable after loading.\n"
     ]
    },
    {
     "name": "stdout",
     "output_type": "stream",
     "text": [
      "100/100 [==============================] - 87s 866ms/step - d_loss: 6.4837 - g_loss: 15.3344\n",
      "Epoch 3/10\n",
      "100/100 [==============================] - ETA: 0s - d_loss: 6.4801 - g_loss: 15.3337"
     ]
    },
    {
     "name": "stderr",
     "output_type": "stream",
     "text": [
      "WARNING:absl:Found untraced functions such as _jit_compiled_convolution_op, _jit_compiled_convolution_op, _jit_compiled_convolution_op, _jit_compiled_convolution_op, _jit_compiled_convolution_op while saving (showing 5 of 6). These functions will not be directly callable after loading.\n",
      "WARNING:absl:Found untraced functions such as _jit_compiled_convolution_op, _jit_compiled_convolution_op, _jit_compiled_convolution_op, _jit_compiled_convolution_op while saving (showing 4 of 4). These functions will not be directly callable after loading.\n"
     ]
    },
    {
     "name": "stdout",
     "output_type": "stream",
     "text": [
      "100/100 [==============================] - 87s 870ms/step - d_loss: 6.4805 - g_loss: 15.3337\n",
      "Epoch 4/10\n",
      "100/100 [==============================] - ETA: 0s - d_loss: 6.4824 - g_loss: 15.3341"
     ]
    },
    {
     "name": "stderr",
     "output_type": "stream",
     "text": [
      "WARNING:absl:Found untraced functions such as _jit_compiled_convolution_op, _jit_compiled_convolution_op, _jit_compiled_convolution_op, _jit_compiled_convolution_op, _jit_compiled_convolution_op while saving (showing 5 of 6). These functions will not be directly callable after loading.\n",
      "WARNING:absl:Found untraced functions such as _jit_compiled_convolution_op, _jit_compiled_convolution_op, _jit_compiled_convolution_op, _jit_compiled_convolution_op while saving (showing 4 of 4). These functions will not be directly callable after loading.\n"
     ]
    },
    {
     "name": "stdout",
     "output_type": "stream",
     "text": [
      "100/100 [==============================] - 87s 867ms/step - d_loss: 6.4820 - g_loss: 15.3340\n",
      "Epoch 5/10\n",
      "100/100 [==============================] - ETA: 0s - d_loss: 6.4874 - g_loss: 15.3347"
     ]
    },
    {
     "name": "stderr",
     "output_type": "stream",
     "text": [
      "WARNING:absl:Found untraced functions such as _jit_compiled_convolution_op, _jit_compiled_convolution_op, _jit_compiled_convolution_op, _jit_compiled_convolution_op, _jit_compiled_convolution_op while saving (showing 5 of 6). These functions will not be directly callable after loading.\n",
      "WARNING:absl:Found untraced functions such as _jit_compiled_convolution_op, _jit_compiled_convolution_op, _jit_compiled_convolution_op, _jit_compiled_convolution_op while saving (showing 4 of 4). These functions will not be directly callable after loading.\n"
     ]
    },
    {
     "name": "stdout",
     "output_type": "stream",
     "text": [
      "100/100 [==============================] - 87s 868ms/step - d_loss: 6.4867 - g_loss: 15.3347\n",
      "Epoch 6/10\n",
      "100/100 [==============================] - ETA: 0s - d_loss: 6.4766 - g_loss: 15.3349"
     ]
    },
    {
     "name": "stderr",
     "output_type": "stream",
     "text": [
      "WARNING:absl:Found untraced functions such as _jit_compiled_convolution_op, _jit_compiled_convolution_op, _jit_compiled_convolution_op, _jit_compiled_convolution_op, _jit_compiled_convolution_op while saving (showing 5 of 6). These functions will not be directly callable after loading.\n",
      "WARNING:absl:Found untraced functions such as _jit_compiled_convolution_op, _jit_compiled_convolution_op, _jit_compiled_convolution_op, _jit_compiled_convolution_op while saving (showing 4 of 4). These functions will not be directly callable after loading.\n"
     ]
    },
    {
     "name": "stdout",
     "output_type": "stream",
     "text": [
      "100/100 [==============================] - 87s 867ms/step - d_loss: 6.4772 - g_loss: 15.3349\n",
      "Epoch 7/10\n",
      "100/100 [==============================] - ETA: 0s - d_loss: 6.4841 - g_loss: 15.3351"
     ]
    },
    {
     "name": "stderr",
     "output_type": "stream",
     "text": [
      "WARNING:absl:Found untraced functions such as _jit_compiled_convolution_op, _jit_compiled_convolution_op, _jit_compiled_convolution_op, _jit_compiled_convolution_op, _jit_compiled_convolution_op while saving (showing 5 of 6). These functions will not be directly callable after loading.\n",
      "WARNING:absl:Found untraced functions such as _jit_compiled_convolution_op, _jit_compiled_convolution_op, _jit_compiled_convolution_op, _jit_compiled_convolution_op while saving (showing 4 of 4). These functions will not be directly callable after loading.\n"
     ]
    },
    {
     "name": "stdout",
     "output_type": "stream",
     "text": [
      "100/100 [==============================] - 87s 867ms/step - d_loss: 6.4843 - g_loss: 15.3351\n",
      "Epoch 8/10\n",
      "100/100 [==============================] - ETA: 0s - d_loss: 6.4815 - g_loss: 15.3360"
     ]
    },
    {
     "name": "stderr",
     "output_type": "stream",
     "text": [
      "WARNING:absl:Found untraced functions such as _jit_compiled_convolution_op, _jit_compiled_convolution_op, _jit_compiled_convolution_op, _jit_compiled_convolution_op, _jit_compiled_convolution_op while saving (showing 5 of 6). These functions will not be directly callable after loading.\n",
      "WARNING:absl:Found untraced functions such as _jit_compiled_convolution_op, _jit_compiled_convolution_op, _jit_compiled_convolution_op, _jit_compiled_convolution_op while saving (showing 4 of 4). These functions will not be directly callable after loading.\n"
     ]
    },
    {
     "name": "stdout",
     "output_type": "stream",
     "text": [
      "100/100 [==============================] - 87s 868ms/step - d_loss: 6.4808 - g_loss: 15.3360\n",
      "Epoch 9/10\n",
      " 91/100 [==========================>...] - ETA: 7s - d_loss: 6.4799 - g_loss: 15.3359"
     ]
    },
    {
     "name": "stderr",
     "output_type": "stream",
     "text": [
      "2022-11-06 10:14:45.661477: W tensorflow/core/common_runtime/bfc_allocator.cc:290] Allocator (GPU_0_bfc) ran out of memory trying to allocate 1.83GiB with freed_by_count=0. The caller indicates that this is not a failure, but this may mean that there could be performance gains if more memory were available.\n"
     ]
    },
    {
     "name": "stdout",
     "output_type": "stream",
     "text": [
      "100/100 [==============================] - ETA: 0s - d_loss: 6.4783 - g_loss: 15.3360"
     ]
    },
    {
     "name": "stderr",
     "output_type": "stream",
     "text": [
      "WARNING:absl:Found untraced functions such as _jit_compiled_convolution_op, _jit_compiled_convolution_op, _jit_compiled_convolution_op, _jit_compiled_convolution_op, _jit_compiled_convolution_op while saving (showing 5 of 6). These functions will not be directly callable after loading.\n",
      "WARNING:absl:Found untraced functions such as _jit_compiled_convolution_op, _jit_compiled_convolution_op, _jit_compiled_convolution_op, _jit_compiled_convolution_op while saving (showing 4 of 4). These functions will not be directly callable after loading.\n"
     ]
    },
    {
     "name": "stdout",
     "output_type": "stream",
     "text": [
      "100/100 [==============================] - 87s 867ms/step - d_loss: 6.4786 - g_loss: 15.3360\n",
      "Epoch 10/10\n",
      "100/100 [==============================] - ETA: 0s - d_loss: 6.4755 - g_loss: 15.3361"
     ]
    },
    {
     "name": "stderr",
     "output_type": "stream",
     "text": [
      "WARNING:absl:Found untraced functions such as _jit_compiled_convolution_op, _jit_compiled_convolution_op, _jit_compiled_convolution_op, _jit_compiled_convolution_op, _jit_compiled_convolution_op while saving (showing 5 of 6). These functions will not be directly callable after loading.\n",
      "WARNING:absl:Found untraced functions such as _jit_compiled_convolution_op, _jit_compiled_convolution_op, _jit_compiled_convolution_op, _jit_compiled_convolution_op while saving (showing 4 of 4). These functions will not be directly callable after loading.\n"
     ]
    },
    {
     "name": "stdout",
     "output_type": "stream",
     "text": [
      "100/100 [==============================] - 87s 867ms/step - d_loss: 6.4755 - g_loss: 15.3360\n"
     ]
    }
   ],
   "source": [
    "hist = galaxy_gan.fit(real_images, epochs=10, callbacks=[ModelMonitor()])"
   ]
  },
  {
   "cell_type": "markdown",
   "metadata": {},
   "source": [
    "## 4. Testing"
   ]
  },
  {
   "cell_type": "code",
   "execution_count": 72,
   "metadata": {
    "execution": {
     "iopub.execute_input": "2022-11-06T10:16:22.991304Z",
     "iopub.status.busy": "2022-11-06T10:16:22.991082Z",
     "iopub.status.idle": "2022-11-06T10:16:23.073493Z",
     "shell.execute_reply": "2022-11-06T10:16:23.072877Z",
     "shell.execute_reply.started": "2022-11-06T10:16:22.991284Z"
    }
   },
   "outputs": [
    {
     "data": {
      "image/png": "[encoded data removed]",
      "text/plain": [
       "<Figure size 432x288 with 1 Axes>"
      ]
     },
     "metadata": {
      "needs_background": "light"
     },
     "output_type": "display_data"
    }
   ],
   "source": [
    "plt.plot(hist.history['d_loss'], label=\"d_loss\")\n",
    "plt.plot(hist.history['g_loss'], label=\"g_loss\")\n",
    "plt.title('GAN losses')\n",
    "plt.xlabel(\"Epochs\")\n",
    "plt.ylabel(\"Loss\")\n",
    "plt.legend()\n",
    "plt.show()"
   ]
  },
  {
   "cell_type": "code",
   "execution_count": 73,
   "metadata": {
    "execution": {
     "iopub.execute_input": "2022-11-06T10:16:23.074561Z",
     "iopub.status.busy": "2022-11-06T10:16:23.074370Z",
     "iopub.status.idle": "2022-11-06T10:16:23.356173Z",
     "shell.execute_reply": "2022-11-06T10:16:23.355554Z",
     "shell.execute_reply.started": "2022-11-06T10:16:23.074543Z"
    }
   },
   "outputs": [
    {
     "name": "stdout",
     "output_type": "stream",
     "text": [
      "1/1 [==============================] - 0s 17ms/step\n"
     ]
    },
    {
     "data": {
      "image/png": "[encoded data removed]",
      "text/plain": [
       "<Figure size 1440x1440 with 4 Axes>"
      ]
     },
     "metadata": {
      "needs_background": "light"
     },
     "output_type": "display_data"
    }
   ],
   "source": [
    "images = galaxy_gan.generator.predict(tf.random.normal((4, 128, 1)))\n",
    "fig, ax = plt.subplots(ncols=4, figsize=(20,20))\n",
    "for i in range(4):\n",
    "    ax[i].imshow(np.squeeze(images[i]))\n",
    "    ax[i].title.set_text(i)"
   ]
  },
  {
   "cell_type": "code",
   "execution_count": 74,
   "metadata": {
    "execution": {
     "iopub.execute_input": "2022-11-06T10:16:23.357432Z",
     "iopub.status.busy": "2022-11-06T10:16:23.357002Z",
     "iopub.status.idle": "2022-11-06T10:16:23.821362Z",
     "shell.execute_reply": "2022-11-06T10:16:23.820679Z",
     "shell.execute_reply.started": "2022-11-06T10:16:23.357412Z"
    }
   },
   "outputs": [],
   "source": [
    "generator.save(os.path.join('models', 'generator.h5'))\n",
    "discriminator.save(os.path.join('models', 'discriminator.h5'))"
   ]
  }
 ],
 "metadata": {
  "kernelspec": {
   "display_name": "Python 3 (ipykernel)",
   "language": "python",
   "name": "python3"
  },
  "language_info": {
   "codemirror_mode": {
    "name": "ipython",
    "version": 3
   },
   "file_extension": ".py",
   "mimetype": "text/x-python",
   "name": "python",
   "nbconvert_exporter": "python",
   "pygments_lexer": "ipython3",
   "version": "3.9.13"
  },
  "vscode": {
   "interpreter": {
    "hash": "f9f85f796d01129d0dd105a088854619f454435301f6ffec2fea96ecbd9be4ac"
   }
  }
 },
 "nbformat": 4,
 "nbformat_minor": 4
}
